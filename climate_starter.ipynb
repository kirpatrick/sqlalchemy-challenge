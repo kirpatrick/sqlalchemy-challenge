{
 "cells": [
  {
   "cell_type": "code",
   "execution_count": 1,
   "metadata": {},
   "outputs": [],
   "source": [
    "%matplotlib inline\n",
    "from matplotlib import style\n",
    "style.use('fivethirtyeight')\n",
    "import matplotlib.pyplot as plt"
   ]
  },
  {
   "cell_type": "code",
   "execution_count": 2,
   "metadata": {},
   "outputs": [],
   "source": [
    "import numpy as np\n",
    "import pandas as pd"
   ]
  },
  {
   "cell_type": "code",
   "execution_count": 3,
   "metadata": {},
   "outputs": [],
   "source": [
    "import datetime as dt"
   ]
  },
  {
   "cell_type": "markdown",
   "metadata": {},
   "source": [
    "# Reflect Tables into SQLAlchemy ORM"
   ]
  },
  {
   "cell_type": "code",
   "execution_count": 4,
   "metadata": {},
   "outputs": [],
   "source": [
    "# Python SQL toolkit and Object Relational Mapper\n",
    "import sqlalchemy\n",
    "from sqlalchemy.ext.automap import automap_base\n",
    "from sqlalchemy.orm import Session\n",
    "from sqlalchemy import create_engine, func, inspect"
   ]
  },
  {
   "cell_type": "code",
   "execution_count": 5,
   "metadata": {},
   "outputs": [],
   "source": [
    "# Use SQLAlchemy create_engine to connect to your sqlite database.\n",
    "engine = create_engine(\"sqlite:///Resources/hawaii.sqlite\")"
   ]
  },
  {
   "cell_type": "code",
   "execution_count": 6,
   "metadata": {},
   "outputs": [],
   "source": [
    "# reflect an existing database into a new model\n",
    "Base = automap_base()\n",
    "# reflect the tables\n",
    "Base.prepare(engine, reflect=True)"
   ]
  },
  {
   "cell_type": "code",
   "execution_count": 7,
   "metadata": {},
   "outputs": [
    {
     "data": {
      "text/plain": [
       "['measurement', 'station']"
      ]
     },
     "execution_count": 7,
     "metadata": {},
     "output_type": "execute_result"
    }
   ],
   "source": [
    "# We can view all of the classes that automap found\n",
    "Base.classes.keys()"
   ]
  },
  {
   "cell_type": "code",
   "execution_count": 8,
   "metadata": {},
   "outputs": [],
   "source": [
    "# Save references to each table\n",
    "Measurement = Base.classes.measurement\n",
    "Station = Base.classes.station"
   ]
  },
  {
   "cell_type": "code",
   "execution_count": 9,
   "metadata": {},
   "outputs": [],
   "source": [
    "# Create our session (link) from Python to the DB\n",
    "session = Session(engine)"
   ]
  },
  {
   "cell_type": "markdown",
   "metadata": {},
   "source": [
    "# Exploratory Climate Analysis"
   ]
  },
  {
   "cell_type": "markdown",
   "metadata": {},
   "source": [
    "### --- Begin Exploratory Sandbox ---"
   ]
  },
  {
   "cell_type": "code",
   "execution_count": 10,
   "metadata": {},
   "outputs": [
    {
     "data": {
      "text/plain": [
       "['measurement', 'station']"
      ]
     },
     "execution_count": 10,
     "metadata": {},
     "output_type": "execute_result"
    }
   ],
   "source": [
    "# Use inspect to explore the given data\n",
    "inspector = inspect(engine)\n",
    "inspector.get_table_names()"
   ]
  },
  {
   "cell_type": "code",
   "execution_count": 11,
   "metadata": {},
   "outputs": [
    {
     "name": "stdout",
     "output_type": "stream",
     "text": [
      "id INTEGER\n",
      "station TEXT\n",
      "date TEXT\n",
      "prcp FLOAT\n",
      "tobs FLOAT\n"
     ]
    }
   ],
   "source": [
    "# Get a list of column names and types for 'measurement' table\n",
    "columns = inspector.get_columns('measurement')\n",
    "for c in columns:\n",
    "    print(c['name'], c[\"type\"])"
   ]
  },
  {
   "cell_type": "code",
   "execution_count": 12,
   "metadata": {},
   "outputs": [
    {
     "data": {
      "text/plain": [
       "[(2724, 'USC00519397', '2017-08-23', 0.0),\n",
       " (7635, 'USC00514830', '2017-08-23', 0.0),\n",
       " (12187, 'USC00519523', '2017-08-23', 0.08),\n",
       " (19550, 'USC00516128', '2017-08-23', 0.45),\n",
       " (2723, 'USC00519397', '2017-08-22', 0.0),\n",
       " (12186, 'USC00519523', '2017-08-22', 0.0),\n",
       " (19549, 'USC00516128', '2017-08-22', 0.5),\n",
       " (2722, 'USC00519397', '2017-08-21', 0.0),\n",
       " (7634, 'USC00514830', '2017-08-21', 0.02),\n",
       " (12185, 'USC00519523', '2017-08-21', None),\n",
       " (19548, 'USC00516128', '2017-08-21', 0.56),\n",
       " (2721, 'USC00519397', '2017-08-20', 0.0),\n",
       " (7633, 'USC00514830', '2017-08-20', 0.01),\n",
       " (19547, 'USC00516128', '2017-08-20', None),\n",
       " (2720, 'USC00519397', '2017-08-19', 0.0),\n",
       " (7632, 'USC00514830', '2017-08-19', 0.0),\n",
       " (12184, 'USC00519523', '2017-08-19', None),\n",
       " (19546, 'USC00516128', '2017-08-19', 0.09),\n",
       " (2719, 'USC00519397', '2017-08-18', 0.0),\n",
       " (7631, 'USC00514830', '2017-08-18', 0.0),\n",
       " (14959, 'USC00519281', '2017-08-18', 0.06),\n",
       " (19545, 'USC00516128', '2017-08-18', None),\n",
       " (7630, 'USC00514830', '2017-08-17', 0.0),\n",
       " (12183, 'USC00519523', '2017-08-17', 0.05),\n",
       " (14958, 'USC00519281', '2017-08-17', 0.01),\n",
       " (19544, 'USC00516128', '2017-08-17', 0.13),\n",
       " (7629, 'USC00514830', '2017-08-16', 0.0),\n",
       " (12182, 'USC00519523', '2017-08-16', 0.07),\n",
       " (14957, 'USC00519281', '2017-08-16', 0.12),\n",
       " (19543, 'USC00516128', '2017-08-16', 0.42),\n",
       " (2718, 'USC00519397', '2017-08-15', 0.02),\n",
       " (7628, 'USC00514830', '2017-08-15', 0.0),\n",
       " (12181, 'USC00519523', '2017-08-15', 0.06),\n",
       " (14956, 'USC00519281', '2017-08-15', 0.32),\n",
       " (19542, 'USC00516128', '2017-08-15', 0.42),\n",
       " (2717, 'USC00519397', '2017-08-14', 0.0),\n",
       " (7627, 'USC00514830', '2017-08-14', 0.01),\n",
       " (12180, 'USC00519523', '2017-08-14', 0.08),\n",
       " (14955, 'USC00519281', '2017-08-14', 0.0),\n",
       " (19541, 'USC00516128', '2017-08-14', 0.22),\n",
       " (2716, 'USC00519397', '2017-08-13', 0.0),\n",
       " (7626, 'USC00514830', '2017-08-13', None),\n",
       " (12179, 'USC00519523', '2017-08-13', 0.0),\n",
       " (14954, 'USC00519281', '2017-08-13', 0.0),\n",
       " (19540, 'USC00516128', '2017-08-13', None),\n",
       " (2715, 'USC00519397', '2017-08-12', 0.0),\n",
       " (12178, 'USC00519523', '2017-08-12', 0.0),\n",
       " (19539, 'USC00516128', '2017-08-12', 0.14),\n",
       " (2714, 'USC00519397', '2017-08-11', 0.0),\n",
       " (7625, 'USC00514830', '2017-08-11', 0.0),\n",
       " (12177, 'USC00519523', '2017-08-11', 0.0),\n",
       " (19538, 'USC00516128', '2017-08-11', None),\n",
       " (2713, 'USC00519397', '2017-08-10', 0.0),\n",
       " (7624, 'USC00514830', '2017-08-10', 0.0),\n",
       " (12176, 'USC00519523', '2017-08-10', 0.0),\n",
       " (19537, 'USC00516128', '2017-08-10', 0.07),\n",
       " (2712, 'USC00519397', '2017-08-09', 0.0),\n",
       " (7623, 'USC00514830', '2017-08-09', 0.0),\n",
       " (19536, 'USC00516128', '2017-08-09', 0.15),\n",
       " (2711, 'USC00519397', '2017-08-08', 0.0),\n",
       " (7622, 'USC00514830', '2017-08-08', 0.1),\n",
       " (12175, 'USC00519523', '2017-08-08', 0.0),\n",
       " (19535, 'USC00516128', '2017-08-08', 0.34),\n",
       " (2710, 'USC00519397', '2017-08-07', 0.0),\n",
       " (7621, 'USC00514830', '2017-08-07', 0.0),\n",
       " (12174, 'USC00519523', '2017-08-07', 0.0),\n",
       " (19534, 'USC00516128', '2017-08-07', 0.05),\n",
       " (2709, 'USC00519397', '2017-08-06', 0.0),\n",
       " (7620, 'USC00514830', '2017-08-06', 0.0),\n",
       " (12173, 'USC00519523', '2017-08-06', 0.0),\n",
       " (14953, 'USC00519281', '2017-08-06', 0.0),\n",
       " (19533, 'USC00516128', '2017-08-06', None),\n",
       " (2708, 'USC00519397', '2017-08-05', 0.0),\n",
       " (14952, 'USC00519281', '2017-08-05', 0.06),\n",
       " (19532, 'USC00516128', '2017-08-05', None),\n",
       " (2707, 'USC00519397', '2017-08-04', 0.02),\n",
       " (7619, 'USC00514830', '2017-08-04', 0.04),\n",
       " (12172, 'USC00519523', '2017-08-04', 0.0),\n",
       " (14951, 'USC00519281', '2017-08-04', 0.0),\n",
       " (2706, 'USC00519397', '2017-08-03', 0.0),\n",
       " (7618, 'USC00514830', '2017-08-03', 0.01),\n",
       " (12171, 'USC00519523', '2017-08-03', 0.0),\n",
       " (19531, 'USC00516128', '2017-08-03', 0.06),\n",
       " (2705, 'USC00519397', '2017-08-02', 0.0),\n",
       " (7617, 'USC00514830', '2017-08-02', 0.05),\n",
       " (12170, 'USC00519523', '2017-08-02', 0.0),\n",
       " (19530, 'USC00516128', '2017-08-02', 0.25),\n",
       " (2704, 'USC00519397', '2017-08-01', 0.02),\n",
       " (7616, 'USC00514830', '2017-08-01', 0.12),\n",
       " (12169, 'USC00519523', '2017-08-01', 0.0),\n",
       " (19529, 'USC00516128', '2017-08-01', None),\n",
       " (2703, 'USC00519397', '2017-07-31', 0.0),\n",
       " (5433, 'USC00513117', '2017-07-31', 0.0),\n",
       " (7615, 'USC00514830', '2017-07-31', None),\n",
       " (9007, 'USC00517948', '2017-07-31', None),\n",
       " (12168, 'USC00519523', '2017-07-31', 0.0),\n",
       " (14950, 'USC00519281', '2017-07-31', 0.0),\n",
       " (19528, 'USC00516128', '2017-07-31', 0.0),\n",
       " (2702, 'USC00519397', '2017-07-30', 0.0),\n",
       " (5432, 'USC00513117', '2017-07-30', 0.0)]"
      ]
     },
     "execution_count": 12,
     "metadata": {},
     "output_type": "execute_result"
    }
   ],
   "source": [
    "# Peek at 'measurement' data\n",
    "session.query(Measurement.id,\n",
    "              Measurement.station,\n",
    "              Measurement.date,\n",
    "              Measurement.prcp).\\\n",
    "order_by(Measurement.date.desc()).\\\n",
    "limit(100).\\\n",
    "all()"
   ]
  },
  {
   "cell_type": "code",
   "execution_count": 13,
   "metadata": {},
   "outputs": [
    {
     "data": {
      "text/plain": [
       "[(19550)]"
      ]
     },
     "execution_count": 13,
     "metadata": {},
     "output_type": "execute_result"
    }
   ],
   "source": [
    "# determine 'measurement' record count\n",
    "session.query(func.count(Measurement.id)).all()"
   ]
  },
  {
   "cell_type": "code",
   "execution_count": 14,
   "metadata": {},
   "outputs": [
    {
     "name": "stdout",
     "output_type": "stream",
     "text": [
      "id INTEGER\n",
      "station TEXT\n",
      "name TEXT\n",
      "latitude FLOAT\n",
      "longitude FLOAT\n",
      "elevation FLOAT\n"
     ]
    }
   ],
   "source": [
    "# Get a list of column names and types for 'station' table\n",
    "columns = inspector.get_columns('station')\n",
    "for c in columns:\n",
    "    print(c['name'], c[\"type\"])"
   ]
  },
  {
   "cell_type": "code",
   "execution_count": 15,
   "metadata": {},
   "outputs": [
    {
     "data": {
      "text/plain": [
       "[(1, 'USC00519397', 'WAIKIKI 717.2, HI US', 21.2716, -157.8168, 3.0),\n",
       " (2, 'USC00513117', 'KANEOHE 838.1, HI US', 21.4234, -157.8015, 14.6),\n",
       " (3,\n",
       "  'USC00514830',\n",
       "  'KUALOA RANCH HEADQUARTERS 886.9, HI US',\n",
       "  21.5213,\n",
       "  -157.8374,\n",
       "  7.0),\n",
       " (4, 'USC00517948', 'PEARL CITY, HI US', 21.3934, -157.9751, 11.9),\n",
       " (5, 'USC00518838', 'UPPER WAHIAWA 874.3, HI US', 21.4992, -158.0111, 306.6),\n",
       " (6,\n",
       "  'USC00519523',\n",
       "  'WAIMANALO EXPERIMENTAL FARM, HI US',\n",
       "  21.33556,\n",
       "  -157.71139,\n",
       "  19.5),\n",
       " (7,\n",
       "  'USC00519281',\n",
       "  'WAIHEE 837.5, HI US',\n",
       "  21.45167,\n",
       "  -157.84888999999998,\n",
       "  32.9),\n",
       " (8,\n",
       "  'USC00511918',\n",
       "  'HONOLULU OBSERVATORY 702.2, HI US',\n",
       "  21.3152,\n",
       "  -157.9992,\n",
       "  0.9),\n",
       " (9, 'USC00516128', 'MANOA LYON ARBO 785.2, HI US', 21.3331, -157.8025, 152.4)]"
      ]
     },
     "execution_count": 15,
     "metadata": {},
     "output_type": "execute_result"
    }
   ],
   "source": [
    "# Peek at 'station' data\n",
    "session.query(Station.id,\n",
    "              Station.station,\n",
    "              Station.name,\n",
    "              Station.latitude,\n",
    "              Station.longitude,\n",
    "              Station.elevation).\\\n",
    "limit(50).all()"
   ]
  },
  {
   "cell_type": "code",
   "execution_count": 16,
   "metadata": {},
   "outputs": [
    {
     "data": {
      "text/plain": [
       "[(9)]"
      ]
     },
     "execution_count": 16,
     "metadata": {},
     "output_type": "execute_result"
    }
   ],
   "source": [
    "# determine 'station' record count\n",
    "session.query(func.count(Station.id)).all()"
   ]
  },
  {
   "cell_type": "markdown",
   "metadata": {},
   "source": [
    "### --- End Exploratory Sandbox ---"
   ]
  },
  {
   "cell_type": "code",
   "execution_count": 37,
   "metadata": {},
   "outputs": [
    {
     "data": {
      "text/html": [
       "<div>\n",
       "<style scoped>\n",
       "    .dataframe tbody tr th:only-of-type {\n",
       "        vertical-align: middle;\n",
       "    }\n",
       "\n",
       "    .dataframe tbody tr th {\n",
       "        vertical-align: top;\n",
       "    }\n",
       "\n",
       "    .dataframe thead th {\n",
       "        text-align: right;\n",
       "    }\n",
       "</style>\n",
       "<table border=\"1\" class=\"dataframe\">\n",
       "  <thead>\n",
       "    <tr style=\"text-align: right;\">\n",
       "      <th></th>\n",
       "      <th>Month</th>\n",
       "      <th>Precipitation Total</th>\n",
       "    </tr>\n",
       "  </thead>\n",
       "  <tbody>\n",
       "    <tr>\n",
       "      <td>0</td>\n",
       "      <td>2016-09</td>\n",
       "      <td>49.40</td>\n",
       "    </tr>\n",
       "    <tr>\n",
       "      <td>1</td>\n",
       "      <td>2016-10</td>\n",
       "      <td>21.77</td>\n",
       "    </tr>\n",
       "    <tr>\n",
       "      <td>2</td>\n",
       "      <td>2016-11</td>\n",
       "      <td>20.56</td>\n",
       "    </tr>\n",
       "    <tr>\n",
       "      <td>3</td>\n",
       "      <td>2016-12</td>\n",
       "      <td>35.51</td>\n",
       "    </tr>\n",
       "    <tr>\n",
       "      <td>4</td>\n",
       "      <td>2017-01</td>\n",
       "      <td>11.95</td>\n",
       "    </tr>\n",
       "    <tr>\n",
       "      <td>5</td>\n",
       "      <td>2017-02</td>\n",
       "      <td>39.06</td>\n",
       "    </tr>\n",
       "    <tr>\n",
       "      <td>6</td>\n",
       "      <td>2017-03</td>\n",
       "      <td>29.62</td>\n",
       "    </tr>\n",
       "    <tr>\n",
       "      <td>7</td>\n",
       "      <td>2017-04</td>\n",
       "      <td>54.91</td>\n",
       "    </tr>\n",
       "    <tr>\n",
       "      <td>8</td>\n",
       "      <td>2017-05</td>\n",
       "      <td>25.27</td>\n",
       "    </tr>\n",
       "    <tr>\n",
       "      <td>9</td>\n",
       "      <td>2017-06</td>\n",
       "      <td>20.52</td>\n",
       "    </tr>\n",
       "    <tr>\n",
       "      <td>10</td>\n",
       "      <td>2017-07</td>\n",
       "      <td>23.72</td>\n",
       "    </tr>\n",
       "    <tr>\n",
       "      <td>11</td>\n",
       "      <td>2017-08</td>\n",
       "      <td>5.18</td>\n",
       "    </tr>\n",
       "  </tbody>\n",
       "</table>\n",
       "</div>"
      ],
      "text/plain": [
       "      Month  Precipitation Total\n",
       "0   2016-09                49.40\n",
       "1   2016-10                21.77\n",
       "2   2016-11                20.56\n",
       "3   2016-12                35.51\n",
       "4   2017-01                11.95\n",
       "5   2017-02                39.06\n",
       "6   2017-03                29.62\n",
       "7   2017-04                54.91\n",
       "8   2017-05                25.27\n",
       "9   2017-06                20.52\n",
       "10  2017-07                23.72\n",
       "11  2017-08                 5.18"
      ]
     },
     "execution_count": 37,
     "metadata": {},
     "output_type": "execute_result"
    }
   ],
   "source": [
    "# Design a query to retrieve the last 12 months of precipitation data and plot the results.\n",
    "\n",
    "# Format date for aggregation.  Retain only year and month\n",
    "prcp_month = func.strftime(\"%Y-%m\", Measurement.date)\n",
    "\n",
    "# Query the 'measurement' table, sum 'prcp' by year/month, keep last 12 monthly totals\n",
    "lastTwelveMonPrcp = session.query(\n",
    "    prcp_month,\n",
    "    func.sum(Measurement.prcp)\n",
    ").\\\n",
    "group_by(prcp_month).\\\n",
    "order_by(prcp_month.desc()).\\\n",
    "limit(12).\\\n",
    "all()\n",
    "\n",
    "# Confirm query results\n",
    "lastTwelveMonPrcp\n",
    "\n",
    "# Create empty lists to store data from the 12 month 'measurement' query\n",
    "prcp_month = []\n",
    "prcp_total = []\n",
    "\n",
    "# Store query count for iteration\n",
    "lastTwelveMonths = len(lastTwelveMonPrcp)\n",
    "    \n",
    "# Add data to the empty lists\n",
    "for totalPrcp in range(lastTwelveMonths):\n",
    "    prcp_month.append(lastTwelveMonPrcp[(lastTwelveMonths-1)-totalPrcp][0])\n",
    "    prcp_total.append(lastTwelveMonPrcp[(lastTwelveMonths-1)-totalPrcp][1])\n",
    "\n",
    "# Create a dataframe that matches the lastTwelveMonPrcp object\n",
    "lastTwelveMonPrcp_df = pd.DataFrame({\n",
    "    \"Month\":prcp_month,\n",
    "    \"Precipitation Total\":prcp_total\n",
    "})\n",
    "\n",
    "# Save an image of the plot\n",
    "\n",
    "# Confirm expected values in dataframe\n",
    "lastTwelveMonPrcp_df"
   ]
  },
  {
   "cell_type": "code",
   "execution_count": 30,
   "metadata": {},
   "outputs": [
    {
     "data": {
      "text/plain": [
       "Text(0.5, 1.0, 'Monthly Hawaiian Precipitation (Last 12 Months)')"
      ]
     },
     "execution_count": 30,
     "metadata": {},
     "output_type": "execute_result"
    },
    {
     "data": {
      "image/png": "[encoded data removed]",
      "text/plain": [
       "<Figure size 432x288 with 1 Axes>"
      ]
     },
     "metadata": {
      "needs_background": "light"
     },
     "output_type": "display_data"
    }
   ],
   "source": [
    "# Create a bar graph\n",
    "ax = lastTwelveMonPrcp_df.plot.bar(x='Month',y='Precipitation Total')\n",
    "ax.set_title('Monthly Hawaiian Precipitation (Last 12 Months)')\n",
    "\n",
    "# Save an image of the plot\n"
   ]
  },
  {
   "cell_type": "code",
   "execution_count": 20,
   "metadata": {},
   "outputs": [
    {
     "data": {
      "image/png": "[encoded data removed]",
      "text/plain": [
       "<Figure size 432x288 with 1 Axes>"
      ]
     },
     "metadata": {
      "needs_background": "light"
     },
     "output_type": "display_data"
    }
   ],
   "source": [
    "# Plot the Results in a Matplotlib bar chart\n",
    "df = pd.DataFrame(lastTwelveMonPrcp, columns=['date', 'precipitation'])\n",
    "df.set_index('date', inplace=True)\n",
    "df.plot.bar()\n",
    "plt.tight_layout()\n",
    "plt.show()\n"
   ]
  },
  {
   "cell_type": "code",
   "execution_count": 49,
   "metadata": {},
   "outputs": [
    {
     "data": {
      "text/plain": [
       "[('2017-08-23', 0.1325),\n",
       " ('2017-08-22', 0.16666666666666666),\n",
       " ('2017-08-21', 0.19333333333333336),\n",
       " ('2017-08-20', 0.005),\n",
       " ('2017-08-19', 0.03),\n",
       " ('2017-08-18', 0.02),\n",
       " ('2017-08-17', 0.0475),\n",
       " ('2017-08-16', 0.1525),\n",
       " ('2017-08-15', 0.164),\n",
       " ('2017-08-14', 0.062),\n",
       " ('2017-08-13', 0.0),\n",
       " ('2017-08-12', 0.04666666666666667),\n",
       " ('2017-08-11', 0.0),\n",
       " ('2017-08-10', 0.0175),\n",
       " ('2017-08-09', 0.049999999999999996),\n",
       " ('2017-08-08', 0.11000000000000001),\n",
       " ('2017-08-07', 0.0125),\n",
       " ('2017-08-06', 0.0),\n",
       " ('2017-08-05', 0.03),\n",
       " ('2017-08-04', 0.015),\n",
       " ('2017-08-03', 0.017499999999999998),\n",
       " ('2017-08-02', 0.075),\n",
       " ('2017-08-01', 0.04666666666666666),\n",
       " ('2017-07-31', 0.0),\n",
       " ('2017-07-30', 0.06),\n",
       " ('2017-07-29', 0.10166666666666667),\n",
       " ('2017-07-28', 0.11),\n",
       " ('2017-07-27', 0.0016666666666666668),\n",
       " ('2017-07-26', 0.08333333333333333),\n",
       " ('2017-07-25', 0.08714285714285715),\n",
       " ('2017-07-24', 0.6539999999999999),\n",
       " ('2017-07-23', 0.22600000000000003),\n",
       " ('2017-07-22', 0.7366666666666667),\n",
       " ('2017-07-21', 0.018571428571428572),\n",
       " ('2017-07-20', 0.17714285714285713),\n",
       " ('2017-07-19', 0.06833333333333334),\n",
       " ('2017-07-18', 0.3614285714285714),\n",
       " ('2017-07-17', 0.15166666666666667),\n",
       " ('2017-07-16', 0.135),\n",
       " ('2017-07-15', 0.03166666666666667),\n",
       " ('2017-07-14', 0.15833333333333335),\n",
       " ('2017-07-13', 0.3016666666666667),\n",
       " ('2017-07-12', 0.060000000000000005),\n",
       " ('2017-07-11', 0.005),\n",
       " ('2017-07-10', 0.006666666666666667),\n",
       " ('2017-07-09', 0.03333333333333333),\n",
       " ('2017-07-08', 0.016666666666666666),\n",
       " ('2017-07-07', 0.1),\n",
       " ('2017-07-06', 0.004),\n",
       " ('2017-07-05', 0.0),\n",
       " ('2017-07-04', 0.037500000000000006),\n",
       " ('2017-07-03', 0.148),\n",
       " ('2017-07-02', 0.18),\n",
       " ('2017-07-01', 0.065),\n",
       " ('2017-06-30', 0.07428571428571429),\n",
       " ('2017-06-29', 0.011666666666666667),\n",
       " ('2017-06-28', 0.005),\n",
       " ('2017-06-27', 0.018333333333333333),\n",
       " ('2017-06-26', 0.02),\n",
       " ('2017-06-25', 0.12),\n",
       " ('2017-06-24', 0.128),\n",
       " ('2017-06-23', 0.11166666666666665),\n",
       " ('2017-06-22', 0.07333333333333335),\n",
       " ('2017-06-21', 0.1275),\n",
       " ('2017-06-20', 0.11000000000000001),\n",
       " ('2017-06-19', 0.12166666666666666),\n",
       " ('2017-06-18', 0.23666666666666666),\n",
       " ('2017-06-17', 0.09000000000000001),\n",
       " ('2017-06-16', 0.03333333333333333),\n",
       " ('2017-06-15', 0.45166666666666666),\n",
       " ('2017-06-14', 0.26166666666666666),\n",
       " ('2017-06-13', 0.22999999999999998),\n",
       " ('2017-06-12', 0.2916666666666667),\n",
       " ('2017-06-11', 0.35833333333333334),\n",
       " ('2017-06-10', 0.306),\n",
       " ('2017-06-09', 0.008),\n",
       " ('2017-06-08', 0.005),\n",
       " ('2017-06-07', 0.0016666666666666668),\n",
       " ('2017-06-06', 0.0),\n",
       " ('2017-06-05', 0.013333333333333334),\n",
       " ('2017-06-04', 0.19166666666666665),\n",
       " ('2017-06-03', 0.122),\n",
       " ('2017-06-02', 0.06799999999999999),\n",
       " ('2017-06-01', 0.006666666666666667),\n",
       " ('2017-05-31', 0.074),\n",
       " ('2017-05-30', 0.346),\n",
       " ('2017-05-29', 0.084),\n",
       " ('2017-05-28', 0.06833333333333334),\n",
       " ('2017-05-27', 0.085),\n",
       " ('2017-05-26', 0.004),\n",
       " ('2017-05-25', 0.37000000000000005),\n",
       " ('2017-05-24', 0.6483333333333333),\n",
       " ('2017-05-23', 0.11833333333333333),\n",
       " ('2017-05-22', 0.072),\n",
       " ('2017-05-21', 0.002),\n",
       " ('2017-05-20', 0.0075),\n",
       " ('2017-05-19', 0.01),\n",
       " ('2017-05-18', 0.14166666666666666),\n",
       " ('2017-05-17', 0.025000000000000005),\n",
       " ('2017-05-16', 0.06999999999999999),\n",
       " ('2017-05-15', 0.176),\n",
       " ('2017-05-14', 0.244),\n",
       " ('2017-05-13', 0.048),\n",
       " ('2017-05-12', 0.032),\n",
       " ('2017-05-11', 0.12),\n",
       " ('2017-05-10', 0.14333333333333334),\n",
       " ('2017-05-09', 0.9260000000000002),\n",
       " ('2017-05-08', 0.5016666666666666),\n",
       " ('2017-05-07', 0.024),\n",
       " ('2017-05-06', 0.01),\n",
       " ('2017-05-05', 0.06333333333333334),\n",
       " ('2017-05-04', 0.016),\n",
       " ('2017-05-03', 0.006),\n",
       " ('2017-05-02', 0.008333333333333333),\n",
       " ('2017-05-01', 0.135),\n",
       " ('2017-04-30', 1.07),\n",
       " ('2017-04-29', 1.3399999999999999),\n",
       " ('2017-04-28', 0.7066666666666667),\n",
       " ('2017-04-27', 0.06999999999999999),\n",
       " ('2017-04-26', 0.065),\n",
       " ('2017-04-25', 0.0),\n",
       " ('2017-04-24', 0.015000000000000001),\n",
       " ('2017-04-23', 0.11499999999999999),\n",
       " ('2017-04-22', 0.9920000000000002),\n",
       " ('2017-04-21', 1.3966666666666667),\n",
       " ('2017-04-20', 0.13),\n",
       " ('2017-04-19', 0.03333333333333333),\n",
       " ('2017-04-18', 0.48),\n",
       " ('2017-04-17', 0.6140000000000001),\n",
       " ('2017-04-16', 0.21400000000000002),\n",
       " ('2017-04-15', 0.34800000000000003),\n",
       " ('2017-04-14', 1.1199999999999999),\n",
       " ('2017-04-13', 0.18166666666666667),\n",
       " ('2017-04-12', 0.18000000000000002),\n",
       " ('2017-04-11', 0.07833333333333332),\n",
       " ('2017-04-10', 0.0033333333333333335),\n",
       " ('2017-04-09', 0.0),\n",
       " ('2017-04-08', 0.0),\n",
       " ('2017-04-07', 0.0),\n",
       " ('2017-04-06', 0.008571428571428572),\n",
       " ('2017-04-05', 0.09428571428571429),\n",
       " ('2017-04-04', 0.02142857142857143),\n",
       " ('2017-04-03', 0.11),\n",
       " ('2017-04-02', 0.0),\n",
       " ('2017-04-01', 0.06833333333333334),\n",
       " ('2017-03-31', 0.0016666666666666668),\n",
       " ('2017-03-30', 0.03),\n",
       " ('2017-03-29', 0.03166666666666667),\n",
       " ('2017-03-28', 0.11833333333333335),\n",
       " ('2017-03-27', 0.002),\n",
       " ('2017-03-26', 0.0),\n",
       " ('2017-03-25', 0.394),\n",
       " ('2017-03-24', 0.18833333333333335),\n",
       " ('2017-03-23', 0.008333333333333333),\n",
       " ('2017-03-22', 0.0),\n",
       " ('2017-03-21', 0.015),\n",
       " ('2017-03-20', 0.004),\n",
       " ('2017-03-19', 0.0),\n",
       " ('2017-03-18', 0.0),\n",
       " ('2017-03-17', 0.144),\n",
       " ('2017-03-16', 0.0),\n",
       " ('2017-03-15', 0.01),\n",
       " ('2017-03-14', 0.008571428571428572),\n",
       " ('2017-03-13', 0.0),\n",
       " ('2017-03-12', 0.0),\n",
       " ('2017-03-11', 0.008),\n",
       " ('2017-03-10', 0.04142857142857143),\n",
       " ('2017-03-09', 0.3266666666666667),\n",
       " ('2017-03-08', 0.0),\n",
       " ('2017-03-07', 0.0),\n",
       " ('2017-03-06', 0.135),\n",
       " ('2017-03-05', 0.3025),\n",
       " ('2017-03-04', 0.0),\n",
       " ('2017-03-03', 0.37166666666666665),\n",
       " ('2017-03-02', 1.0933333333333333),\n",
       " ('2017-03-01', 1.6600000000000001),\n",
       " ('2017-02-28', 0.13666666666666666),\n",
       " ('2017-02-27', 0.0),\n",
       " ('2017-02-26', 0.0),\n",
       " ('2017-02-25', 0.0375),\n",
       " ('2017-02-24', 0.0),\n",
       " ('2017-02-23', 0.0014285714285714286),\n",
       " ('2017-02-22', 0.13000000000000003),\n",
       " ('2017-02-21', 0.026000000000000002),\n",
       " ('2017-02-20', 0.0),\n",
       " ('2017-02-19', 0.0475),\n",
       " ('2017-02-18', 0.0025),\n",
       " ('2017-02-17', 0.17500000000000004),\n",
       " ('2017-02-16', 0.36999999999999994),\n",
       " ('2017-02-15', 0.016),\n",
       " ('2017-02-14', 0.0016666666666666668),\n",
       " ('2017-02-13', 0.4866666666666666),\n",
       " ('2017-02-12', 1.7466666666666668),\n",
       " ('2017-02-11', 1.866666666666667),\n",
       " ('2017-02-10', 0.0),\n",
       " ('2017-02-09', 0.002857142857142857),\n",
       " ('2017-02-08', 0.1542857142857143),\n",
       " ('2017-02-07', 1.0571428571428572),\n",
       " ('2017-02-06', 0.06333333333333334),\n",
       " ('2017-02-05', 0.0),\n",
       " ('2017-02-04', 0.0),\n",
       " ('2017-02-03', 0.0),\n",
       " ('2017-02-02', 0.0),\n",
       " ('2017-02-01', 0.0),\n",
       " ('2017-01-31', 0.0),\n",
       " ('2017-01-30', 0.008333333333333333),\n",
       " ('2017-01-29', 0.2475),\n",
       " ('2017-01-28', 0.028000000000000004),\n",
       " ('2017-01-27', 0.008571428571428572),\n",
       " ('2017-01-26', 0.015714285714285715),\n",
       " ('2017-01-25', 0.716),\n",
       " ('2017-01-24', 0.45),\n",
       " ('2017-01-23', 0.188),\n",
       " ('2017-01-22', 0.20400000000000001),\n",
       " ('2017-01-21', 0.04666666666666666),\n",
       " ('2017-01-20', 0.0),\n",
       " ('2017-01-19', 0.0033333333333333335),\n",
       " ('2017-01-18', 0.011666666666666667),\n",
       " ('2017-01-17', 0.0),\n",
       " ('2017-01-16', 0.0),\n",
       " ('2017-01-15', 0.0025),\n",
       " ('2017-01-14', 0.002),\n",
       " ('2017-01-13', 0.0),\n",
       " ('2017-01-12', 0.0),\n",
       " ('2017-01-11', 0.0),\n",
       " ('2017-01-10', 0.0),\n",
       " ('2017-01-09', 0.0),\n",
       " ('2017-01-08', 0.01),\n",
       " ('2017-01-07', 0.01),\n",
       " ('2017-01-06', 0.13333333333333333),\n",
       " ('2017-01-05', 0.15833333333333333),\n",
       " ('2017-01-04', 0.03),\n",
       " ('2017-01-03', 0.0),\n",
       " ('2017-01-02', 0.004),\n",
       " ('2017-01-01', 0.06999999999999999),\n",
       " ('2016-12-31', 0.42800000000000005),\n",
       " ('2016-12-30', 0.5583333333333333),\n",
       " ('2016-12-29', 0.39666666666666667),\n",
       " ('2016-12-28', 0.06833333333333334),\n",
       " ('2016-12-27', 0.04),\n",
       " ('2016-12-26', 0.40800000000000003),\n",
       " ('2016-12-25', 0.086),\n",
       " ('2016-12-24', 0.27),\n",
       " ('2016-12-23', 0.205),\n",
       " ('2016-12-22', 0.4116666666666666),\n",
       " ('2016-12-21', 0.1285714285714286),\n",
       " ('2016-12-20', 0.005),\n",
       " ('2016-12-19', 0.07),\n",
       " ('2016-12-18', 0.178),\n",
       " ('2016-12-17', 0.07),\n",
       " ('2016-12-16', 0.006666666666666667),\n",
       " ('2016-12-15', 0.043333333333333335),\n",
       " ('2016-12-14', 0.25),\n",
       " ('2016-12-13', 0.12833333333333333),\n",
       " ('2016-12-12', 0.008333333333333333),\n",
       " ('2016-12-11', 0.05),\n",
       " ('2016-12-10', 0.026000000000000002),\n",
       " ('2016-12-09', 0.37),\n",
       " ('2016-12-08', 0.06571428571428573),\n",
       " ('2016-12-07', 0.076),\n",
       " ('2016-12-06', 0.008),\n",
       " ('2016-12-05', 0.54),\n",
       " ('2016-12-04', 0.13333333333333333),\n",
       " ('2016-12-03', 0.45166666666666666),\n",
       " ('2016-12-02', 0.3933333333333333),\n",
       " ('2016-12-01', 0.295),\n",
       " ('2016-11-30', 0.17666666666666667),\n",
       " ('2016-11-29', 0.07166666666666667),\n",
       " ('2016-11-28', 0.12),\n",
       " ('2016-11-27', 0.09166666666666667),\n",
       " ('2016-11-26', 0.085),\n",
       " ('2016-11-25', 0.264),\n",
       " ('2016-11-24', 0.296),\n",
       " ('2016-11-23', 0.134),\n",
       " ('2016-11-22', 1.002),\n",
       " ('2016-11-21', 0.616),\n",
       " ('2016-11-20', 0.23750000000000002),\n",
       " ('2016-11-19', 0.095),\n",
       " ('2016-11-18', 0.0075),\n",
       " ('2016-11-17', 0.01),\n",
       " ('2016-11-16', 0.25666666666666665),\n",
       " ('2016-11-15', 0.008333333333333333),\n",
       " ('2016-11-14', 0.02142857142857143),\n",
       " ('2016-11-13', 0.0),\n",
       " ('2016-11-12', 0.0),\n",
       " ('2016-11-11', 0.0),\n",
       " ('2016-11-10', 0.0016666666666666668),\n",
       " ('2016-11-09', 0.05714285714285714),\n",
       " ('2016-11-08', 0.18666666666666668),\n",
       " ('2016-11-07', 0.03),\n",
       " ('2016-11-06', 0.013333333333333334),\n",
       " ('2016-11-05', 0.075),\n",
       " ('2016-11-04', 0.01),\n",
       " ('2016-11-03', 0.0033333333333333335),\n",
       " ('2016-11-02', 0.006666666666666667),\n",
       " ('2016-11-01', 0.035),\n",
       " ('2016-10-31', 0.26833333333333337),\n",
       " ('2016-10-30', 0.26499999999999996),\n",
       " ('2016-10-29', 0.10666666666666667),\n",
       " ('2016-10-28', 0.09500000000000001),\n",
       " ('2016-10-27', 0.31),\n",
       " ('2016-10-26', 0.04833333333333334),\n",
       " ('2016-10-25', 0.15714285714285717),\n",
       " ('2016-10-24', 0.13166666666666665),\n",
       " ('2016-10-23', 0.055999999999999994),\n",
       " ('2016-10-22', 0.354),\n",
       " ('2016-10-21', 0.064),\n",
       " ('2016-10-20', 0.202),\n",
       " ('2016-10-19', 0.028333333333333332),\n",
       " ('2016-10-18', 0.09999999999999999),\n",
       " ('2016-10-17', 0.11000000000000001),\n",
       " ('2016-10-16', 0.0),\n",
       " ('2016-10-15', 0.065),\n",
       " ('2016-10-14', 0.0),\n",
       " ('2016-10-13', 0.013333333333333334),\n",
       " ('2016-10-12', 0.013333333333333334),\n",
       " ('2016-10-11', 0.11499999999999999),\n",
       " ('2016-10-10', 0.0),\n",
       " ('2016-10-09', 0.0),\n",
       " ('2016-10-08', 0.008),\n",
       " ('2016-10-07', 0.0016666666666666668),\n",
       " ('2016-10-06', 0.022857142857142857),\n",
       " ('2016-10-05', 0.1366666666666667),\n",
       " ('2016-10-04', 0.5816666666666667),\n",
       " ('2016-10-03', 0.115),\n",
       " ('2016-10-02', 0.12),\n",
       " ('2016-10-01', 0.2416666666666667),\n",
       " ('2016-09-30', 0.19166666666666665),\n",
       " ('2016-09-29', 0.42714285714285716),\n",
       " ('2016-09-28', 0.018571428571428572),\n",
       " ('2016-09-27', 0.22666666666666666),\n",
       " ('2016-09-26', 0.2783333333333333),\n",
       " ('2016-09-25', 0.015),\n",
       " ('2016-09-24', 0.04666666666666667),\n",
       " ('2016-09-23', 0.22428571428571428),\n",
       " ('2016-09-22', 0.2057142857142857),\n",
       " ('2016-09-21', 0.19499999999999998),\n",
       " ('2016-09-20', 0.14714285714285716),\n",
       " ('2016-09-19', 0.064),\n",
       " ('2016-09-18', 0.10600000000000001),\n",
       " ('2016-09-17', 0.13599999999999998),\n",
       " ('2016-09-16', 0.11714285714285715),\n",
       " ('2016-09-15', 0.8266666666666667),\n",
       " ('2016-09-14', 2.3800000000000003),\n",
       " ('2016-09-13', 0.45166666666666666),\n",
       " ('2016-09-12', 0.308),\n",
       " ('2016-09-11', 0.25),\n",
       " ('2016-09-10', 0.27999999999999997),\n",
       " ('2016-09-09', 0.17833333333333332),\n",
       " ('2016-09-08', 0.07666666666666667),\n",
       " ('2016-09-07', 0.3333333333333333),\n",
       " ('2016-09-06', 0.246),\n",
       " ('2016-09-05', 0.08499999999999999),\n",
       " ('2016-09-04', 0.276),\n",
       " ('2016-09-03', 0.254),\n",
       " ('2016-09-02', 0.05),\n",
       " ('2016-09-01', 0.006),\n",
       " ('2016-08-31', 0.6359999999999999),\n",
       " ('2016-08-30', 0.011666666666666667),\n",
       " ('2016-08-29', 0.24333333333333332),\n",
       " ('2016-08-28', 0.5166666666666666),\n",
       " ('2016-08-27', 0.06399999999999999),\n",
       " ('2016-08-26', 0.016666666666666666),\n",
       " ('2016-08-25', 0.07714285714285715),\n",
       " ('2016-08-24', 1.5549999999999997)]"
      ]
     },
     "execution_count": 49,
     "metadata": {},
     "output_type": "execute_result"
    }
   ],
   "source": [
    "# Design a query to retrieve the last 12 months of precipitation data and plot the results.\n",
    "\n",
    "# Format date for aggregation.  Retain only year and month\n",
    "prcp_day = Measurement.date\n",
    "\n",
    "# Query the 'measurement' table, sum 'prcp' by year/month, keep last 12 monthly totals\n",
    "lastThreeSixtyFiveDaysPrcp = session.query(\n",
    "    prcp_day,\n",
    "    func.avg(Measurement.prcp)\n",
    ").\\\n",
    "group_by(prcp_day).\\\n",
    "order_by(prcp_day.desc()).\\\n",
    "limit(365).\\\n",
    "all()\n",
    "\n",
    "# Confirm query results\n",
    "lastThreeSixtyFiveDaysPrcp\n",
    "#len(lastThreeSixtyFiveDaysPrcp)"
   ]
  },
  {
   "cell_type": "code",
   "execution_count": 50,
   "metadata": {},
   "outputs": [
    {
     "data": {
      "image/png": "[encoded data removed]",
      "text/plain": [
       "<Figure size 432x288 with 1 Axes>"
      ]
     },
     "metadata": {
      "needs_background": "light"
     },
     "output_type": "display_data"
    }
   ],
   "source": [
    "# Plot the Results in a Matplotlib bar chart\n",
    "df = pd.DataFrame(lastThreeSixtyFiveDaysPrcp, columns=['date', 'precipitation'])\n",
    "df.set_index('date', inplace=True)\n",
    "df.plot.bar()\n",
    "plt.tight_layout()\n",
    "plt.show()"
   ]
  },
  {
   "cell_type": "code",
   "execution_count": 45,
   "metadata": {},
   "outputs": [
    {
     "data": {
      "text/html": [
       "<div>\n",
       "<style scoped>\n",
       "    .dataframe tbody tr th:only-of-type {\n",
       "        vertical-align: middle;\n",
       "    }\n",
       "\n",
       "    .dataframe tbody tr th {\n",
       "        vertical-align: top;\n",
       "    }\n",
       "\n",
       "    .dataframe thead th {\n",
       "        text-align: right;\n",
       "    }\n",
       "</style>\n",
       "<table border=\"1\" class=\"dataframe\">\n",
       "  <thead>\n",
       "    <tr style=\"text-align: right;\">\n",
       "      <th></th>\n",
       "      <th>Month</th>\n",
       "      <th>Precipitation Total</th>\n",
       "    </tr>\n",
       "  </thead>\n",
       "  <tbody>\n",
       "    <tr>\n",
       "      <td>0</td>\n",
       "      <td>2016-09</td>\n",
       "      <td>49.40</td>\n",
       "    </tr>\n",
       "    <tr>\n",
       "      <td>1</td>\n",
       "      <td>2016-10</td>\n",
       "      <td>21.77</td>\n",
       "    </tr>\n",
       "    <tr>\n",
       "      <td>2</td>\n",
       "      <td>2016-11</td>\n",
       "      <td>20.56</td>\n",
       "    </tr>\n",
       "    <tr>\n",
       "      <td>3</td>\n",
       "      <td>2016-12</td>\n",
       "      <td>35.51</td>\n",
       "    </tr>\n",
       "    <tr>\n",
       "      <td>4</td>\n",
       "      <td>2017-01</td>\n",
       "      <td>11.95</td>\n",
       "    </tr>\n",
       "    <tr>\n",
       "      <td>5</td>\n",
       "      <td>2017-02</td>\n",
       "      <td>39.06</td>\n",
       "    </tr>\n",
       "    <tr>\n",
       "      <td>6</td>\n",
       "      <td>2017-03</td>\n",
       "      <td>29.62</td>\n",
       "    </tr>\n",
       "    <tr>\n",
       "      <td>7</td>\n",
       "      <td>2017-04</td>\n",
       "      <td>54.91</td>\n",
       "    </tr>\n",
       "    <tr>\n",
       "      <td>8</td>\n",
       "      <td>2017-05</td>\n",
       "      <td>25.27</td>\n",
       "    </tr>\n",
       "    <tr>\n",
       "      <td>9</td>\n",
       "      <td>2017-06</td>\n",
       "      <td>20.52</td>\n",
       "    </tr>\n",
       "    <tr>\n",
       "      <td>10</td>\n",
       "      <td>2017-07</td>\n",
       "      <td>23.72</td>\n",
       "    </tr>\n",
       "    <tr>\n",
       "      <td>11</td>\n",
       "      <td>2017-08</td>\n",
       "      <td>5.18</td>\n",
       "    </tr>\n",
       "  </tbody>\n",
       "</table>\n",
       "</div>"
      ],
      "text/plain": [
       "      Month  Precipitation Total\n",
       "0   2016-09                49.40\n",
       "1   2016-10                21.77\n",
       "2   2016-11                20.56\n",
       "3   2016-12                35.51\n",
       "4   2017-01                11.95\n",
       "5   2017-02                39.06\n",
       "6   2017-03                29.62\n",
       "7   2017-04                54.91\n",
       "8   2017-05                25.27\n",
       "9   2017-06                20.52\n",
       "10  2017-07                23.72\n",
       "11  2017-08                 5.18"
      ]
     },
     "execution_count": 45,
     "metadata": {},
     "output_type": "execute_result"
    }
   ],
   "source": [
    "# Create empty lists to store data from the 365 days 'measurement' query\n",
    "prcp_total_365 = []\n",
    "prcp_day_365 = []\n",
    "\n",
    "# Store query count for iteration\n",
    "lastThreeSixtyFiveDays = len(lastThreeSixtyFiveDaysPrcp)\n",
    "    \n",
    "# Add data to the empty lists\n",
    "for totalPrcp in range(lastThreeSixtyFiveDays):\n",
    "    prcp_day_365.append(lastThreeSixtyFiveDaysPrcp[(lastThreeSixtyFiveDays-1)-totalPrcp][0])\n",
    "    prcp_total_365.append(lastThreeSixtyFiveDaysPrcp[(lastThreeSixtyFiveDays-1)-totalPrcp][1])\n",
    "\n",
    "# Create a dataframe that matches the lastTwelveMonPrcp object\n",
    "lastThreeSixtyFiveDaysPrcp_df = pd.DataFrame({\n",
    "    \"Month\":prcp_month,\n",
    "    \"Precipitation Total\":prcp_total\n",
    "})\n",
    "\n",
    "# Save an image of the plot\n",
    "\n",
    "# Confirm expected values in dataframe\n",
    "lastThreeSixtyFiveDaysPrcp_df"
   ]
  },
  {
   "cell_type": "code",
   "execution_count": null,
   "metadata": {},
   "outputs": [],
   "source": [
    "# Calculate the date 1 year ago from the last data point in the database\n",
    "\n",
    "# Perform a query to retrieve the data and precipitation scores\n",
    "\n",
    "# Save the query results as a Pandas DataFrame and set the index to the date column\n",
    "\n",
    "# Sort the dataframe by date\n",
    "\n",
    "# Use Pandas Plotting with Matplotlib to plot the data\n",
    "\n",
    "# Save an image of the plot\n"
   ]
  },
  {
   "cell_type": "code",
   "execution_count": null,
   "metadata": {},
   "outputs": [],
   "source": [
    "# Use Pandas to calcualte the summary statistics for the precipitation data\n"
   ]
  },
  {
   "cell_type": "code",
   "execution_count": null,
   "metadata": {},
   "outputs": [],
   "source": [
    "# Design a query to show how many stations are available in this dataset?\n"
   ]
  },
  {
   "cell_type": "code",
   "execution_count": null,
   "metadata": {},
   "outputs": [],
   "source": [
    "# What are the most active stations? (i.e. what stations have the most rows)?\n",
    "# List the stations and the counts in descending order.\n"
   ]
  },
  {
   "cell_type": "code",
   "execution_count": null,
   "metadata": {},
   "outputs": [],
   "source": [
    "# Using the station id from the previous query, calculate the lowest temperature recorded, \n",
    "# highest temperature recorded, and average temperature of the most active station?\n"
   ]
  },
  {
   "cell_type": "code",
   "execution_count": null,
   "metadata": {},
   "outputs": [],
   "source": [
    "# Choose the station with the highest number of temperature observations.\n",
    "# Query the last 12 months of temperature observation data for this station and plot the results as a histogram\n",
    "\n",
    "# Save an image of the histogram"
   ]
  },
  {
   "cell_type": "code",
   "execution_count": null,
   "metadata": {},
   "outputs": [],
   "source": [
    "# This function called `calc_temps` will accept start date and end date in the format '%Y-%m-%d' \n",
    "# and return the minimum, average, and maximum temperatures for that range of dates\n",
    "def calc_temps(start_date, end_date):\n",
    "    \"\"\"TMIN, TAVG, and TMAX for a list of dates.\n",
    "    \n",
    "    Args:\n",
    "        start_date (string): A date string in the format %Y-%m-%d\n",
    "        end_date (string): A date string in the format %Y-%m-%d\n",
    "        \n",
    "    Returns:\n",
    "        TMIN, TAVE, and TMAX\n",
    "    \"\"\"\n",
    "    \n",
    "    return session.query(func.min(Measurement.tobs), func.avg(Measurement.tobs), func.max(Measurement.tobs)).\\\n",
    "        filter(Measurement.date >= start_date).filter(Measurement.date <= end_date).all()\n",
    "\n",
    "# function usage example\n",
    "print(calc_temps('2012-02-28', '2012-03-05'))"
   ]
  },
  {
   "cell_type": "code",
   "execution_count": null,
   "metadata": {},
   "outputs": [],
   "source": [
    "# Use your previous function `calc_temps` to calculate the tmin, tavg, and tmax \n",
    "# for your trip using the previous year's data for those same dates.\n"
   ]
  },
  {
   "cell_type": "code",
   "execution_count": null,
   "metadata": {},
   "outputs": [],
   "source": [
    "# Plot the results from your previous query as a bar chart. \n",
    "# Use \"Trip Avg Temp\" as your Title\n",
    "# Use the average temperature for the y value\n",
    "# Use the peak-to-peak (tmax-tmin) value as the y error bar (yerr)\n",
    "\n",
    "# Save an image of the bar chart"
   ]
  },
  {
   "cell_type": "code",
   "execution_count": null,
   "metadata": {},
   "outputs": [],
   "source": [
    "# Calculate the total amount of rainfall per weather station for your trip dates using the previous year's matching dates.\n",
    "# Sort this in descending order by precipitation amount and list the station, name, latitude, longitude, and elevation\n",
    "\n"
   ]
  },
  {
   "cell_type": "markdown",
   "metadata": {},
   "source": [
    "## Optional Challenge Assignment"
   ]
  },
  {
   "cell_type": "code",
   "execution_count": null,
   "metadata": {},
   "outputs": [],
   "source": [
    "# Create a query that will calculate the daily normals \n",
    "# (i.e. the averages for tmin, tmax, and tavg for all historic data matching a specific month and day)\n",
    "\n",
    "def daily_normals(date):\n",
    "    \"\"\"Daily Normals.\n",
    "    \n",
    "    Args:\n",
    "        date (str): A date string in the format '%m-%d'\n",
    "        \n",
    "    Returns:\n",
    "        A list of tuples containing the daily normals, tmin, tavg, and tmax\n",
    "    \n",
    "    \"\"\"\n",
    "    \n",
    "    sel = [func.min(Measurement.tobs), func.avg(Measurement.tobs), func.max(Measurement.tobs)]\n",
    "    return session.query(*sel).filter(func.strftime(\"%m-%d\", Measurement.date) == date).all()\n",
    "    \n",
    "daily_normals(\"01-01\")"
   ]
  },
  {
   "cell_type": "code",
   "execution_count": null,
   "metadata": {},
   "outputs": [],
   "source": [
    "# calculate the daily normals for your trip\n",
    "# push each tuple of calculations into a list called `normals`\n",
    "\n",
    "# Set the start and end date of the trip\n",
    "\n",
    "# Use the start and end date to create a range of dates\n",
    "\n",
    "# Stip off the year and save a list of %m-%d strings\n",
    "\n",
    "# Loop through the list of %m-%d strings and calculate the normals for each date\n"
   ]
  },
  {
   "cell_type": "code",
   "execution_count": null,
   "metadata": {},
   "outputs": [],
   "source": [
    "# Load the previous query results into a Pandas DataFrame and add the `trip_dates` range as the `date` index\n"
   ]
  },
  {
   "cell_type": "code",
   "execution_count": null,
   "metadata": {},
   "outputs": [],
   "source": [
    "# Plot the daily normals as an area plot with `stacked=False`\n",
    "\n",
    "# Save an image of the plot"
   ]
  }
 ],
 "metadata": {
  "kernel_info": {
   "name": "python3"
  },
  "kernelspec": {
   "display_name": "Python 3",
   "language": "python",
   "name": "python3"
  },
  "language_info": {
   "codemirror_mode": {
    "name": "ipython",
    "version": 3
   },
   "file_extension": ".py",
   "mimetype": "text/x-python",
   "name": "python",
   "nbconvert_exporter": "python",
   "pygments_lexer": "ipython3",
   "version": "3.7.4"
  },
  "nteract": {
   "version": "0.12.3"
  },
  "varInspector": {
   "cols": {
    "lenName": 16,
    "lenType": 16,
    "lenVar": 40
   },
   "kernels_config": {
    "python": {
     "delete_cmd_postfix": "",
     "delete_cmd_prefix": "del ",
     "library": "var_list.py",
     "varRefreshCmd": "print(var_dic_list())"
    },
    "r": {
     "delete_cmd_postfix": ") ",
     "delete_cmd_prefix": "rm(",
     "library": "var_list.r",
     "varRefreshCmd": "cat(var_dic_list()) "
    }
   },
   "types_to_exclude": [
    "module",
    "function",
    "builtin_function_or_method",
    "instance",
    "_Feature"
   ],
   "window_display": false
  }
 },
 "nbformat": 4,
 "nbformat_minor": 2
}
