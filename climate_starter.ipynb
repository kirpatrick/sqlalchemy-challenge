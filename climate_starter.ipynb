{
 "cells": [
  {
   "cell_type": "code",
   "execution_count": 1,
   "metadata": {},
   "outputs": [],
   "source": [
    "%matplotlib inline\n",
    "from matplotlib import style\n",
    "style.use('fivethirtyeight')\n",
    "import matplotlib.pyplot as plt"
   ]
  },
  {
   "cell_type": "code",
   "execution_count": 2,
   "metadata": {},
   "outputs": [],
   "source": [
    "import numpy as np\n",
    "import pandas as pd"
   ]
  },
  {
   "cell_type": "code",
   "execution_count": 3,
   "metadata": {},
   "outputs": [],
   "source": [
    "import datetime as dt"
   ]
  },
  {
   "cell_type": "markdown",
   "metadata": {},
   "source": [
    "# Reflect Tables into SQLAlchemy ORM"
   ]
  },
  {
   "cell_type": "code",
   "execution_count": 4,
   "metadata": {},
   "outputs": [],
   "source": [
    "# Python SQL toolkit and Object Relational Mapper\n",
    "import sqlalchemy\n",
    "from sqlalchemy.ext.automap import automap_base\n",
    "from sqlalchemy.orm import Session\n",
    "from sqlalchemy import create_engine, func, inspect"
   ]
  },
  {
   "cell_type": "code",
   "execution_count": 5,
   "metadata": {},
   "outputs": [],
   "source": [
    "# Use SQLAlchemy create_engine to connect to your sqlite database.\n",
    "engine = create_engine(\"sqlite:///Resources/hawaii.sqlite\")"
   ]
  },
  {
   "cell_type": "code",
   "execution_count": 6,
   "metadata": {},
   "outputs": [],
   "source": [
    "# reflect an existing database into a new model\n",
    "Base = automap_base()\n",
    "# reflect the tables\n",
    "Base.prepare(engine, reflect=True)"
   ]
  },
  {
   "cell_type": "code",
   "execution_count": 7,
   "metadata": {},
   "outputs": [
    {
     "data": {
      "text/plain": [
       "['measurement', 'station']"
      ]
     },
     "execution_count": 7,
     "metadata": {},
     "output_type": "execute_result"
    }
   ],
   "source": [
    "# We can view all of the classes that automap found\n",
    "Base.classes.keys()"
   ]
  },
  {
   "cell_type": "code",
   "execution_count": 8,
   "metadata": {},
   "outputs": [],
   "source": [
    "# Save references to each table\n",
    "Measurement = Base.classes.measurement\n",
    "Station = Base.classes.station"
   ]
  },
  {
   "cell_type": "code",
   "execution_count": 9,
   "metadata": {},
   "outputs": [],
   "source": [
    "# Create our session (link) from Python to the DB\n",
    "session = Session(engine)"
   ]
  },
  {
   "cell_type": "markdown",
   "metadata": {},
   "source": [
    "# Exploratory Climate Analysis"
   ]
  },
  {
   "cell_type": "markdown",
   "metadata": {},
   "source": [
    "### --- Begin Exploratory Sandbox ---"
   ]
  },
  {
   "cell_type": "code",
   "execution_count": 10,
   "metadata": {},
   "outputs": [
    {
     "data": {
      "text/plain": [
       "['measurement', 'station']"
      ]
     },
     "execution_count": 10,
     "metadata": {},
     "output_type": "execute_result"
    }
   ],
   "source": [
    "# Use inspect to explore the given data\n",
    "inspector = inspect(engine)\n",
    "inspector.get_table_names()"
   ]
  },
  {
   "cell_type": "code",
   "execution_count": 11,
   "metadata": {},
   "outputs": [
    {
     "name": "stdout",
     "output_type": "stream",
     "text": [
      "id INTEGER\n",
      "station TEXT\n",
      "date TEXT\n",
      "prcp FLOAT\n",
      "tobs FLOAT\n"
     ]
    }
   ],
   "source": [
    "# Get a list of column names and types for 'measurement' table\n",
    "columns = inspector.get_columns('measurement')\n",
    "for c in columns:\n",
    "    print(c['name'], c[\"type\"])"
   ]
  },
  {
   "cell_type": "code",
   "execution_count": 12,
   "metadata": {},
   "outputs": [
    {
     "data": {
      "text/plain": [
       "[(2724, 'USC00519397', '2017-08-23', 0.0),\n",
       " (7635, 'USC00514830', '2017-08-23', 0.0),\n",
       " (12187, 'USC00519523', '2017-08-23', 0.08),\n",
       " (19550, 'USC00516128', '2017-08-23', 0.45),\n",
       " (2723, 'USC00519397', '2017-08-22', 0.0),\n",
       " (12186, 'USC00519523', '2017-08-22', 0.0),\n",
       " (19549, 'USC00516128', '2017-08-22', 0.5),\n",
       " (2722, 'USC00519397', '2017-08-21', 0.0),\n",
       " (7634, 'USC00514830', '2017-08-21', 0.02),\n",
       " (12185, 'USC00519523', '2017-08-21', None),\n",
       " (19548, 'USC00516128', '2017-08-21', 0.56),\n",
       " (2721, 'USC00519397', '2017-08-20', 0.0),\n",
       " (7633, 'USC00514830', '2017-08-20', 0.01),\n",
       " (19547, 'USC00516128', '2017-08-20', None),\n",
       " (2720, 'USC00519397', '2017-08-19', 0.0),\n",
       " (7632, 'USC00514830', '2017-08-19', 0.0),\n",
       " (12184, 'USC00519523', '2017-08-19', None),\n",
       " (19546, 'USC00516128', '2017-08-19', 0.09),\n",
       " (2719, 'USC00519397', '2017-08-18', 0.0),\n",
       " (7631, 'USC00514830', '2017-08-18', 0.0),\n",
       " (14959, 'USC00519281', '2017-08-18', 0.06),\n",
       " (19545, 'USC00516128', '2017-08-18', None),\n",
       " (7630, 'USC00514830', '2017-08-17', 0.0),\n",
       " (12183, 'USC00519523', '2017-08-17', 0.05),\n",
       " (14958, 'USC00519281', '2017-08-17', 0.01),\n",
       " (19544, 'USC00516128', '2017-08-17', 0.13),\n",
       " (7629, 'USC00514830', '2017-08-16', 0.0),\n",
       " (12182, 'USC00519523', '2017-08-16', 0.07),\n",
       " (14957, 'USC00519281', '2017-08-16', 0.12),\n",
       " (19543, 'USC00516128', '2017-08-16', 0.42),\n",
       " (2718, 'USC00519397', '2017-08-15', 0.02),\n",
       " (7628, 'USC00514830', '2017-08-15', 0.0),\n",
       " (12181, 'USC00519523', '2017-08-15', 0.06),\n",
       " (14956, 'USC00519281', '2017-08-15', 0.32),\n",
       " (19542, 'USC00516128', '2017-08-15', 0.42),\n",
       " (2717, 'USC00519397', '2017-08-14', 0.0),\n",
       " (7627, 'USC00514830', '2017-08-14', 0.01),\n",
       " (12180, 'USC00519523', '2017-08-14', 0.08),\n",
       " (14955, 'USC00519281', '2017-08-14', 0.0),\n",
       " (19541, 'USC00516128', '2017-08-14', 0.22),\n",
       " (2716, 'USC00519397', '2017-08-13', 0.0),\n",
       " (7626, 'USC00514830', '2017-08-13', None),\n",
       " (12179, 'USC00519523', '2017-08-13', 0.0),\n",
       " (14954, 'USC00519281', '2017-08-13', 0.0),\n",
       " (19540, 'USC00516128', '2017-08-13', None),\n",
       " (2715, 'USC00519397', '2017-08-12', 0.0),\n",
       " (12178, 'USC00519523', '2017-08-12', 0.0),\n",
       " (19539, 'USC00516128', '2017-08-12', 0.14),\n",
       " (2714, 'USC00519397', '2017-08-11', 0.0),\n",
       " (7625, 'USC00514830', '2017-08-11', 0.0),\n",
       " (12177, 'USC00519523', '2017-08-11', 0.0),\n",
       " (19538, 'USC00516128', '2017-08-11', None),\n",
       " (2713, 'USC00519397', '2017-08-10', 0.0),\n",
       " (7624, 'USC00514830', '2017-08-10', 0.0),\n",
       " (12176, 'USC00519523', '2017-08-10', 0.0),\n",
       " (19537, 'USC00516128', '2017-08-10', 0.07),\n",
       " (2712, 'USC00519397', '2017-08-09', 0.0),\n",
       " (7623, 'USC00514830', '2017-08-09', 0.0),\n",
       " (19536, 'USC00516128', '2017-08-09', 0.15),\n",
       " (2711, 'USC00519397', '2017-08-08', 0.0),\n",
       " (7622, 'USC00514830', '2017-08-08', 0.1),\n",
       " (12175, 'USC00519523', '2017-08-08', 0.0),\n",
       " (19535, 'USC00516128', '2017-08-08', 0.34),\n",
       " (2710, 'USC00519397', '2017-08-07', 0.0),\n",
       " (7621, 'USC00514830', '2017-08-07', 0.0),\n",
       " (12174, 'USC00519523', '2017-08-07', 0.0),\n",
       " (19534, 'USC00516128', '2017-08-07', 0.05),\n",
       " (2709, 'USC00519397', '2017-08-06', 0.0),\n",
       " (7620, 'USC00514830', '2017-08-06', 0.0),\n",
       " (12173, 'USC00519523', '2017-08-06', 0.0),\n",
       " (14953, 'USC00519281', '2017-08-06', 0.0),\n",
       " (19533, 'USC00516128', '2017-08-06', None),\n",
       " (2708, 'USC00519397', '2017-08-05', 0.0),\n",
       " (14952, 'USC00519281', '2017-08-05', 0.06),\n",
       " (19532, 'USC00516128', '2017-08-05', None),\n",
       " (2707, 'USC00519397', '2017-08-04', 0.02),\n",
       " (7619, 'USC00514830', '2017-08-04', 0.04),\n",
       " (12172, 'USC00519523', '2017-08-04', 0.0),\n",
       " (14951, 'USC00519281', '2017-08-04', 0.0),\n",
       " (2706, 'USC00519397', '2017-08-03', 0.0),\n",
       " (7618, 'USC00514830', '2017-08-03', 0.01),\n",
       " (12171, 'USC00519523', '2017-08-03', 0.0),\n",
       " (19531, 'USC00516128', '2017-08-03', 0.06),\n",
       " (2705, 'USC00519397', '2017-08-02', 0.0),\n",
       " (7617, 'USC00514830', '2017-08-02', 0.05),\n",
       " (12170, 'USC00519523', '2017-08-02', 0.0),\n",
       " (19530, 'USC00516128', '2017-08-02', 0.25),\n",
       " (2704, 'USC00519397', '2017-08-01', 0.02),\n",
       " (7616, 'USC00514830', '2017-08-01', 0.12),\n",
       " (12169, 'USC00519523', '2017-08-01', 0.0),\n",
       " (19529, 'USC00516128', '2017-08-01', None),\n",
       " (2703, 'USC00519397', '2017-07-31', 0.0),\n",
       " (5433, 'USC00513117', '2017-07-31', 0.0),\n",
       " (7615, 'USC00514830', '2017-07-31', None),\n",
       " (9007, 'USC00517948', '2017-07-31', None),\n",
       " (12168, 'USC00519523', '2017-07-31', 0.0),\n",
       " (14950, 'USC00519281', '2017-07-31', 0.0),\n",
       " (19528, 'USC00516128', '2017-07-31', 0.0),\n",
       " (2702, 'USC00519397', '2017-07-30', 0.0),\n",
       " (5432, 'USC00513117', '2017-07-30', 0.0)]"
      ]
     },
     "execution_count": 12,
     "metadata": {},
     "output_type": "execute_result"
    }
   ],
   "source": [
    "# Peek at 'measurement' data\n",
    "session.query(Measurement.id,\n",
    "              Measurement.station,\n",
    "              Measurement.date,\n",
    "              Measurement.prcp).\\\n",
    "order_by(Measurement.date.desc()).\\\n",
    "limit(100).\\\n",
    "all()"
   ]
  },
  {
   "cell_type": "code",
   "execution_count": 13,
   "metadata": {},
   "outputs": [
    {
     "data": {
      "text/plain": [
       "[(19550)]"
      ]
     },
     "execution_count": 13,
     "metadata": {},
     "output_type": "execute_result"
    }
   ],
   "source": [
    "# determine 'measurement' record count\n",
    "session.query(func.count(Measurement.id)).all()"
   ]
  },
  {
   "cell_type": "code",
   "execution_count": 14,
   "metadata": {},
   "outputs": [
    {
     "name": "stdout",
     "output_type": "stream",
     "text": [
      "id INTEGER\n",
      "station TEXT\n",
      "name TEXT\n",
      "latitude FLOAT\n",
      "longitude FLOAT\n",
      "elevation FLOAT\n"
     ]
    }
   ],
   "source": [
    "# Get a list of column names and types for 'station' table\n",
    "columns = inspector.get_columns('station')\n",
    "for c in columns:\n",
    "    print(c['name'], c[\"type\"])"
   ]
  },
  {
   "cell_type": "code",
   "execution_count": 15,
   "metadata": {},
   "outputs": [
    {
     "data": {
      "text/plain": [
       "[(1, 'USC00519397', 'WAIKIKI 717.2, HI US', 21.2716, -157.8168, 3.0),\n",
       " (2, 'USC00513117', 'KANEOHE 838.1, HI US', 21.4234, -157.8015, 14.6),\n",
       " (3,\n",
       "  'USC00514830',\n",
       "  'KUALOA RANCH HEADQUARTERS 886.9, HI US',\n",
       "  21.5213,\n",
       "  -157.8374,\n",
       "  7.0),\n",
       " (4, 'USC00517948', 'PEARL CITY, HI US', 21.3934, -157.9751, 11.9),\n",
       " (5, 'USC00518838', 'UPPER WAHIAWA 874.3, HI US', 21.4992, -158.0111, 306.6),\n",
       " (6,\n",
       "  'USC00519523',\n",
       "  'WAIMANALO EXPERIMENTAL FARM, HI US',\n",
       "  21.33556,\n",
       "  -157.71139,\n",
       "  19.5),\n",
       " (7,\n",
       "  'USC00519281',\n",
       "  'WAIHEE 837.5, HI US',\n",
       "  21.45167,\n",
       "  -157.84888999999998,\n",
       "  32.9),\n",
       " (8,\n",
       "  'USC00511918',\n",
       "  'HONOLULU OBSERVATORY 702.2, HI US',\n",
       "  21.3152,\n",
       "  -157.9992,\n",
       "  0.9),\n",
       " (9, 'USC00516128', 'MANOA LYON ARBO 785.2, HI US', 21.3331, -157.8025, 152.4)]"
      ]
     },
     "execution_count": 15,
     "metadata": {},
     "output_type": "execute_result"
    }
   ],
   "source": [
    "# Peek at 'station' data\n",
    "session.query(Station.id,\n",
    "              Station.station,\n",
    "              Station.name,\n",
    "              Station.latitude,\n",
    "              Station.longitude,\n",
    "              Station.elevation).\\\n",
    "limit(50).all()"
   ]
  },
  {
   "cell_type": "code",
   "execution_count": 16,
   "metadata": {},
   "outputs": [
    {
     "data": {
      "text/plain": [
       "[(9)]"
      ]
     },
     "execution_count": 16,
     "metadata": {},
     "output_type": "execute_result"
    }
   ],
   "source": [
    "# determine 'station' record count\n",
    "session.query(func.count(Station.id)).all()"
   ]
  },
  {
   "cell_type": "markdown",
   "metadata": {},
   "source": [
    "### --- End Exploratory Sandbox ---"
   ]
  },
  {
   "cell_type": "code",
   "execution_count": 17,
   "metadata": {},
   "outputs": [
    {
     "data": {
      "text/html": [
       "<div>\n",
       "<style scoped>\n",
       "    .dataframe tbody tr th:only-of-type {\n",
       "        vertical-align: middle;\n",
       "    }\n",
       "\n",
       "    .dataframe tbody tr th {\n",
       "        vertical-align: top;\n",
       "    }\n",
       "\n",
       "    .dataframe thead th {\n",
       "        text-align: right;\n",
       "    }\n",
       "</style>\n",
       "<table border=\"1\" class=\"dataframe\">\n",
       "  <thead>\n",
       "    <tr style=\"text-align: right;\">\n",
       "      <th></th>\n",
       "      <th>Month</th>\n",
       "      <th>Precipitation Total</th>\n",
       "    </tr>\n",
       "  </thead>\n",
       "  <tbody>\n",
       "    <tr>\n",
       "      <td>0</td>\n",
       "      <td>2016-09</td>\n",
       "      <td>49.40</td>\n",
       "    </tr>\n",
       "    <tr>\n",
       "      <td>1</td>\n",
       "      <td>2016-10</td>\n",
       "      <td>21.77</td>\n",
       "    </tr>\n",
       "    <tr>\n",
       "      <td>2</td>\n",
       "      <td>2016-11</td>\n",
       "      <td>20.56</td>\n",
       "    </tr>\n",
       "    <tr>\n",
       "      <td>3</td>\n",
       "      <td>2016-12</td>\n",
       "      <td>35.51</td>\n",
       "    </tr>\n",
       "    <tr>\n",
       "      <td>4</td>\n",
       "      <td>2017-01</td>\n",
       "      <td>11.95</td>\n",
       "    </tr>\n",
       "    <tr>\n",
       "      <td>5</td>\n",
       "      <td>2017-02</td>\n",
       "      <td>39.06</td>\n",
       "    </tr>\n",
       "    <tr>\n",
       "      <td>6</td>\n",
       "      <td>2017-03</td>\n",
       "      <td>29.62</td>\n",
       "    </tr>\n",
       "    <tr>\n",
       "      <td>7</td>\n",
       "      <td>2017-04</td>\n",
       "      <td>54.91</td>\n",
       "    </tr>\n",
       "    <tr>\n",
       "      <td>8</td>\n",
       "      <td>2017-05</td>\n",
       "      <td>25.27</td>\n",
       "    </tr>\n",
       "    <tr>\n",
       "      <td>9</td>\n",
       "      <td>2017-06</td>\n",
       "      <td>20.52</td>\n",
       "    </tr>\n",
       "    <tr>\n",
       "      <td>10</td>\n",
       "      <td>2017-07</td>\n",
       "      <td>23.72</td>\n",
       "    </tr>\n",
       "    <tr>\n",
       "      <td>11</td>\n",
       "      <td>2017-08</td>\n",
       "      <td>5.18</td>\n",
       "    </tr>\n",
       "  </tbody>\n",
       "</table>\n",
       "</div>"
      ],
      "text/plain": [
       "      Month  Precipitation Total\n",
       "0   2016-09                49.40\n",
       "1   2016-10                21.77\n",
       "2   2016-11                20.56\n",
       "3   2016-12                35.51\n",
       "4   2017-01                11.95\n",
       "5   2017-02                39.06\n",
       "6   2017-03                29.62\n",
       "7   2017-04                54.91\n",
       "8   2017-05                25.27\n",
       "9   2017-06                20.52\n",
       "10  2017-07                23.72\n",
       "11  2017-08                 5.18"
      ]
     },
     "execution_count": 17,
     "metadata": {},
     "output_type": "execute_result"
    }
   ],
   "source": [
    "# Design a query to retrieve the last 12 months of precipitation data and plot the results.\n",
    "\n",
    "# Format date for aggregation.  Retain only year and month\n",
    "prcp_month = func.strftime(\"%Y-%m\", Measurement.date)\n",
    "\n",
    "# Query the 'measurement' table, sum 'prcp' by year/month, keep last 12 monthly totals\n",
    "lastTwelveMonPrcp = session.query(\n",
    "    prcp_month,\n",
    "    func.sum(Measurement.prcp)\n",
    ").\\\n",
    "group_by(prcp_month).\\\n",
    "order_by(prcp_month.desc()).\\\n",
    "limit(12).\\\n",
    "all()\n",
    "\n",
    "# Confirm query results\n",
    "lastTwelveMonPrcp\n",
    "\n",
    "# Create empty lists to store data from the 12 month 'measurement' query\n",
    "prcp_total = []\n",
    "prcp_month = []\n",
    "\n",
    "# Add data to the empty lists\n",
    "for totalPrcp in range(len(lastTwelveMonPrcp)):\n",
    "    prcp_month.append(lastTwelveMonPrcp[11-totalPrcp][0])\n",
    "    prcp_total.append(lastTwelveMonPrcp[11-totalPrcp][1])\n",
    "\n",
    "# Create a dataframe that matches the lastTwelveMonPrcp object\n",
    "lastTwelveMonPrcp_df = pd.DataFrame({\n",
    "    \"Month\":prcp_month,\n",
    "    \"Precipitation Total\":prcp_total\n",
    "})\n",
    "\n",
    "# Confirm expected values in dataframe\n",
    "lastTwelveMonPrcp_df\n",
    "\n",
    "# Create a bar graph of the vw_salary_range object\n",
    "#ax = avgSalary_df.plot.bar(x='Position Title',y='Position Mean Annual Salary', color='g',alpha=0.5,align='center')\n",
    "#ax.set_title('Position Mean Annual Salary (USD)')\n",
    "\n",
    "# Save an image of the plot\n"
   ]
  },
  {
   "cell_type": "code",
   "execution_count": 30,
   "metadata": {},
   "outputs": [
    {
     "data": {
      "text/plain": [
       "Text(0.5, 1.0, 'Monthly Hawaiian Precipitation (Last 12 Months)')"
      ]
     },
     "execution_count": 30,
     "metadata": {},
     "output_type": "execute_result"
    },
    {
     "data": {
      "image/png": "[encoded data removed]",
      "text/plain": [
       "<Figure size 432x288 with 1 Axes>"
      ]
     },
     "metadata": {
      "needs_background": "light"
     },
     "output_type": "display_data"
    }
   ],
   "source": [
    "# Create a bar graph\n",
    "ax = lastTwelveMonPrcp_df.plot.bar(x='Month',y='Precipitation Total')\n",
    "ax.set_title('Monthly Hawaiian Precipitation (Last 12 Months)')\n",
    "\n",
    "# Save an image of the plot\n"
   ]
  },
  {
   "cell_type": "code",
   "execution_count": 20,
   "metadata": {},
   "outputs": [
    {
     "data": {
      "image/png": "[encoded data removed]",
      "text/plain": [
       "<Figure size 432x288 with 1 Axes>"
      ]
     },
     "metadata": {
      "needs_background": "light"
     },
     "output_type": "display_data"
    }
   ],
   "source": [
    "# Plot the Results in a Matplotlib bar chart\n",
    "df = pd.DataFrame(lastTwelveMonPrcp, columns=['date', 'precipitation'])\n",
    "df.set_index('date', inplace=True)\n",
    "df.plot.bar()\n",
    "plt.tight_layout()\n",
    "plt.show()\n"
   ]
  },
  {
   "cell_type": "code",
   "execution_count": null,
   "metadata": {},
   "outputs": [],
   "source": [
    "# Calculate the date 1 year ago from the last data point in the database\n",
    "\n",
    "# Perform a query to retrieve the data and precipitation scores\n",
    "\n",
    "# Save the query results as a Pandas DataFrame and set the index to the date column\n",
    "\n",
    "# Sort the dataframe by date\n",
    "\n",
    "# Use Pandas Plotting with Matplotlib to plot the data\n",
    "\n",
    "# Save an image of the plot\n"
   ]
  },
  {
   "cell_type": "code",
   "execution_count": null,
   "metadata": {},
   "outputs": [],
   "source": [
    "# Use Pandas to calcualte the summary statistics for the precipitation data\n"
   ]
  },
  {
   "cell_type": "code",
   "execution_count": null,
   "metadata": {},
   "outputs": [],
   "source": [
    "# Design a query to show how many stations are available in this dataset?\n"
   ]
  },
  {
   "cell_type": "code",
   "execution_count": null,
   "metadata": {},
   "outputs": [],
   "source": [
    "# What are the most active stations? (i.e. what stations have the most rows)?\n",
    "# List the stations and the counts in descending order.\n"
   ]
  },
  {
   "cell_type": "code",
   "execution_count": null,
   "metadata": {},
   "outputs": [],
   "source": [
    "# Using the station id from the previous query, calculate the lowest temperature recorded, \n",
    "# highest temperature recorded, and average temperature of the most active station?\n"
   ]
  },
  {
   "cell_type": "code",
   "execution_count": null,
   "metadata": {},
   "outputs": [],
   "source": [
    "# Choose the station with the highest number of temperature observations.\n",
    "# Query the last 12 months of temperature observation data for this station and plot the results as a histogram\n",
    "\n",
    "# Save an image of the histogram"
   ]
  },
  {
   "cell_type": "code",
   "execution_count": null,
   "metadata": {},
   "outputs": [],
   "source": [
    "# This function called `calc_temps` will accept start date and end date in the format '%Y-%m-%d' \n",
    "# and return the minimum, average, and maximum temperatures for that range of dates\n",
    "def calc_temps(start_date, end_date):\n",
    "    \"\"\"TMIN, TAVG, and TMAX for a list of dates.\n",
    "    \n",
    "    Args:\n",
    "        start_date (string): A date string in the format %Y-%m-%d\n",
    "        end_date (string): A date string in the format %Y-%m-%d\n",
    "        \n",
    "    Returns:\n",
    "        TMIN, TAVE, and TMAX\n",
    "    \"\"\"\n",
    "    \n",
    "    return session.query(func.min(Measurement.tobs), func.avg(Measurement.tobs), func.max(Measurement.tobs)).\\\n",
    "        filter(Measurement.date >= start_date).filter(Measurement.date <= end_date).all()\n",
    "\n",
    "# function usage example\n",
    "print(calc_temps('2012-02-28', '2012-03-05'))"
   ]
  },
  {
   "cell_type": "code",
   "execution_count": null,
   "metadata": {},
   "outputs": [],
   "source": [
    "# Use your previous function `calc_temps` to calculate the tmin, tavg, and tmax \n",
    "# for your trip using the previous year's data for those same dates.\n"
   ]
  },
  {
   "cell_type": "code",
   "execution_count": null,
   "metadata": {},
   "outputs": [],
   "source": [
    "# Plot the results from your previous query as a bar chart. \n",
    "# Use \"Trip Avg Temp\" as your Title\n",
    "# Use the average temperature for the y value\n",
    "# Use the peak-to-peak (tmax-tmin) value as the y error bar (yerr)\n",
    "\n",
    "# Save an image of the bar chart"
   ]
  },
  {
   "cell_type": "code",
   "execution_count": null,
   "metadata": {},
   "outputs": [],
   "source": [
    "# Calculate the total amount of rainfall per weather station for your trip dates using the previous year's matching dates.\n",
    "# Sort this in descending order by precipitation amount and list the station, name, latitude, longitude, and elevation\n",
    "\n"
   ]
  },
  {
   "cell_type": "markdown",
   "metadata": {},
   "source": [
    "## Optional Challenge Assignment"
   ]
  },
  {
   "cell_type": "code",
   "execution_count": null,
   "metadata": {},
   "outputs": [],
   "source": [
    "# Create a query that will calculate the daily normals \n",
    "# (i.e. the averages for tmin, tmax, and tavg for all historic data matching a specific month and day)\n",
    "\n",
    "def daily_normals(date):\n",
    "    \"\"\"Daily Normals.\n",
    "    \n",
    "    Args:\n",
    "        date (str): A date string in the format '%m-%d'\n",
    "        \n",
    "    Returns:\n",
    "        A list of tuples containing the daily normals, tmin, tavg, and tmax\n",
    "    \n",
    "    \"\"\"\n",
    "    \n",
    "    sel = [func.min(Measurement.tobs), func.avg(Measurement.tobs), func.max(Measurement.tobs)]\n",
    "    return session.query(*sel).filter(func.strftime(\"%m-%d\", Measurement.date) == date).all()\n",
    "    \n",
    "daily_normals(\"01-01\")"
   ]
  },
  {
   "cell_type": "code",
   "execution_count": null,
   "metadata": {},
   "outputs": [],
   "source": [
    "# calculate the daily normals for your trip\n",
    "# push each tuple of calculations into a list called `normals`\n",
    "\n",
    "# Set the start and end date of the trip\n",
    "\n",
    "# Use the start and end date to create a range of dates\n",
    "\n",
    "# Stip off the year and save a list of %m-%d strings\n",
    "\n",
    "# Loop through the list of %m-%d strings and calculate the normals for each date\n"
   ]
  },
  {
   "cell_type": "code",
   "execution_count": null,
   "metadata": {},
   "outputs": [],
   "source": [
    "# Load the previous query results into a Pandas DataFrame and add the `trip_dates` range as the `date` index\n"
   ]
  },
  {
   "cell_type": "code",
   "execution_count": null,
   "metadata": {},
   "outputs": [],
   "source": [
    "# Plot the daily normals as an area plot with `stacked=False`\n",
    "\n",
    "# Save an image of the plot"
   ]
  }
 ],
 "metadata": {
  "kernel_info": {
   "name": "python3"
  },
  "kernelspec": {
   "display_name": "Python 3",
   "language": "python",
   "name": "python3"
  },
  "language_info": {
   "codemirror_mode": {
    "name": "ipython",
    "version": 3
   },
   "file_extension": ".py",
   "mimetype": "text/x-python",
   "name": "python",
   "nbconvert_exporter": "python",
   "pygments_lexer": "ipython3",
   "version": "3.7.4"
  },
  "nteract": {
   "version": "0.12.3"
  },
  "varInspector": {
   "cols": {
    "lenName": 16,
    "lenType": 16,
    "lenVar": 40
   },
   "kernels_config": {
    "python": {
     "delete_cmd_postfix": "",
     "delete_cmd_prefix": "del ",
     "library": "var_list.py",
     "varRefreshCmd": "print(var_dic_list())"
    },
    "r": {
     "delete_cmd_postfix": ") ",
     "delete_cmd_prefix": "rm(",
     "library": "var_list.r",
     "varRefreshCmd": "cat(var_dic_list()) "
    }
   },
   "types_to_exclude": [
    "module",
    "function",
    "builtin_function_or_method",
    "instance",
    "_Feature"
   ],
   "window_display": false
  }
 },
 "nbformat": 4,
 "nbformat_minor": 2
}
