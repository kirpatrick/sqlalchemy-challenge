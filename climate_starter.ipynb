{
 "cells": [
  {
   "cell_type": "code",
   "execution_count": 1,
   "metadata": {},
   "outputs": [],
   "source": [
    "%matplotlib inline\n",
    "from matplotlib import style\n",
    "style.use('fivethirtyeight')\n",
    "import matplotlib.pyplot as plt"
   ]
  },
  {
   "cell_type": "code",
   "execution_count": 2,
   "metadata": {},
   "outputs": [],
   "source": [
    "import numpy as np\n",
    "import pandas as pd"
   ]
  },
  {
   "cell_type": "code",
   "execution_count": 3,
   "metadata": {},
   "outputs": [],
   "source": [
    "import datetime as dt"
   ]
  },
  {
   "cell_type": "markdown",
   "metadata": {},
   "source": [
    "# Reflect Tables into SQLAlchemy ORM"
   ]
  },
  {
   "cell_type": "code",
   "execution_count": 4,
   "metadata": {},
   "outputs": [],
   "source": [
    "# Python SQL toolkit and Object Relational Mapper\n",
    "import sqlalchemy\n",
    "from sqlalchemy.ext.automap import automap_base\n",
    "from sqlalchemy.orm import Session\n",
    "from sqlalchemy import create_engine, func, inspect"
   ]
  },
  {
   "cell_type": "code",
   "execution_count": 5,
   "metadata": {},
   "outputs": [],
   "source": [
    "# Use SQLAlchemy create_engine to connect to your sqlite database.\n",
    "engine = create_engine(\"sqlite:///Resources/hawaii.sqlite\")"
   ]
  },
  {
   "cell_type": "code",
   "execution_count": 6,
   "metadata": {},
   "outputs": [],
   "source": [
    "# reflect an existing database into a new model\n",
    "Base = automap_base()\n",
    "# reflect the tables\n",
    "Base.prepare(engine, reflect=True)"
   ]
  },
  {
   "cell_type": "code",
   "execution_count": 7,
   "metadata": {},
   "outputs": [
    {
     "data": {
      "text/plain": [
       "['measurement', 'station']"
      ]
     },
     "execution_count": 7,
     "metadata": {},
     "output_type": "execute_result"
    }
   ],
   "source": [
    "# We can view all of the classes that automap found\n",
    "Base.classes.keys()"
   ]
  },
  {
   "cell_type": "code",
   "execution_count": 8,
   "metadata": {},
   "outputs": [],
   "source": [
    "# Save references to each table\n",
    "Measurement = Base.classes.measurement\n",
    "Station = Base.classes.station"
   ]
  },
  {
   "cell_type": "code",
   "execution_count": 9,
   "metadata": {},
   "outputs": [],
   "source": [
    "# Create our session (link) from Python to the DB\n",
    "session = Session(engine)"
   ]
  },
  {
   "cell_type": "markdown",
   "metadata": {},
   "source": [
    "# Exploratory Climate Analysis"
   ]
  },
  {
   "cell_type": "markdown",
   "metadata": {},
   "source": [
    "### --- Begin Exploratory Sandbox ---"
   ]
  },
  {
   "cell_type": "code",
   "execution_count": null,
   "metadata": {},
   "outputs": [],
   "source": [
    "# Use inspect to explore the given data\n",
    "inspector = inspect(engine)\n",
    "inspector.get_table_names()"
   ]
  },
  {
   "cell_type": "code",
   "execution_count": null,
   "metadata": {},
   "outputs": [],
   "source": [
    "# Get a list of column names and types for 'measurement' table\n",
    "columns = inspector.get_columns('measurement')\n",
    "for c in columns:\n",
    "    print(c['name'], c[\"type\"])"
   ]
  },
  {
   "cell_type": "code",
   "execution_count": null,
   "metadata": {},
   "outputs": [],
   "source": [
    "# Peek at 'measurement' data\n",
    "session.query(Measurement.id,\n",
    "              Measurement.station,\n",
    "              Measurement.date,\n",
    "              Measurement.prcp).\\\n",
    "order_by(Measurement.date.desc()).\\\n",
    "limit(100).\\\n",
    "all()"
   ]
  },
  {
   "cell_type": "code",
   "execution_count": null,
   "metadata": {},
   "outputs": [],
   "source": [
    "# determine 'measurement' record count\n",
    "session.query(func.count(Measurement.id)).all()"
   ]
  },
  {
   "cell_type": "code",
   "execution_count": null,
   "metadata": {},
   "outputs": [],
   "source": [
    "# Get a list of column names and types for 'station' table\n",
    "columns = inspector.get_columns('station')\n",
    "for c in columns:\n",
    "    print(c['name'], c[\"type\"])"
   ]
  },
  {
   "cell_type": "code",
   "execution_count": null,
   "metadata": {},
   "outputs": [],
   "source": [
    "# Peek at 'station' data\n",
    "session.query(Station.id,\n",
    "              Station.station,\n",
    "              Station.name,\n",
    "              Station.latitude,\n",
    "              Station.longitude,\n",
    "              Station.elevation).\\\n",
    "limit(50).all()"
   ]
  },
  {
   "cell_type": "code",
   "execution_count": null,
   "metadata": {},
   "outputs": [],
   "source": [
    "# determine 'station' record count\n",
    "session.query(func.count(Station.id)).all()"
   ]
  },
  {
   "cell_type": "markdown",
   "metadata": {},
   "source": [
    "### --- End Exploratory Sandbox ---"
   ]
  },
  {
   "cell_type": "code",
   "execution_count": 83,
   "metadata": {},
   "outputs": [
    {
     "data": {
      "text/html": [
       "<div>\n",
       "<style scoped>\n",
       "    .dataframe tbody tr th:only-of-type {\n",
       "        vertical-align: middle;\n",
       "    }\n",
       "\n",
       "    .dataframe tbody tr th {\n",
       "        vertical-align: top;\n",
       "    }\n",
       "\n",
       "    .dataframe thead th {\n",
       "        text-align: right;\n",
       "    }\n",
       "</style>\n",
       "<table border=\"1\" class=\"dataframe\">\n",
       "  <thead>\n",
       "    <tr style=\"text-align: right;\">\n",
       "      <th></th>\n",
       "      <th>date</th>\n",
       "      <th>precipitation</th>\n",
       "    </tr>\n",
       "  </thead>\n",
       "  <tbody>\n",
       "    <tr>\n",
       "      <td>0</td>\n",
       "      <td>2016-09</td>\n",
       "      <td>49.40</td>\n",
       "    </tr>\n",
       "    <tr>\n",
       "      <td>1</td>\n",
       "      <td>2016-10</td>\n",
       "      <td>21.77</td>\n",
       "    </tr>\n",
       "    <tr>\n",
       "      <td>2</td>\n",
       "      <td>2016-11</td>\n",
       "      <td>20.56</td>\n",
       "    </tr>\n",
       "    <tr>\n",
       "      <td>3</td>\n",
       "      <td>2016-12</td>\n",
       "      <td>35.51</td>\n",
       "    </tr>\n",
       "    <tr>\n",
       "      <td>4</td>\n",
       "      <td>2017-01</td>\n",
       "      <td>11.95</td>\n",
       "    </tr>\n",
       "    <tr>\n",
       "      <td>5</td>\n",
       "      <td>2017-02</td>\n",
       "      <td>39.06</td>\n",
       "    </tr>\n",
       "    <tr>\n",
       "      <td>6</td>\n",
       "      <td>2017-03</td>\n",
       "      <td>29.62</td>\n",
       "    </tr>\n",
       "    <tr>\n",
       "      <td>7</td>\n",
       "      <td>2017-04</td>\n",
       "      <td>54.91</td>\n",
       "    </tr>\n",
       "    <tr>\n",
       "      <td>8</td>\n",
       "      <td>2017-05</td>\n",
       "      <td>25.27</td>\n",
       "    </tr>\n",
       "    <tr>\n",
       "      <td>9</td>\n",
       "      <td>2017-06</td>\n",
       "      <td>20.52</td>\n",
       "    </tr>\n",
       "    <tr>\n",
       "      <td>10</td>\n",
       "      <td>2017-07</td>\n",
       "      <td>23.72</td>\n",
       "    </tr>\n",
       "    <tr>\n",
       "      <td>11</td>\n",
       "      <td>2017-08</td>\n",
       "      <td>5.18</td>\n",
       "    </tr>\n",
       "  </tbody>\n",
       "</table>\n",
       "</div>"
      ],
      "text/plain": [
       "       date  precipitation\n",
       "0   2016-09          49.40\n",
       "1   2016-10          21.77\n",
       "2   2016-11          20.56\n",
       "3   2016-12          35.51\n",
       "4   2017-01          11.95\n",
       "5   2017-02          39.06\n",
       "6   2017-03          29.62\n",
       "7   2017-04          54.91\n",
       "8   2017-05          25.27\n",
       "9   2017-06          20.52\n",
       "10  2017-07          23.72\n",
       "11  2017-08           5.18"
      ]
     },
     "execution_count": 83,
     "metadata": {},
     "output_type": "execute_result"
    }
   ],
   "source": [
    "# Design a query to retrieve the last 12 months of precipitation data and plot the results.\n",
    "\n",
    "# Format date for aggregation.  Retain only year and month\n",
    "prcp_month = func.strftime(\"%Y-%m\", Measurement.date)\n",
    "\n",
    "# Query the 'measurement' table, sum 'prcp' by year/month, keep last 12 monthly totals\n",
    "lastTwelveMonPrcp = session.query(\n",
    "    prcp_month,\n",
    "    func.sum(Measurement.prcp)\n",
    ").\\\n",
    "group_by(prcp_month).\\\n",
    "order_by(prcp_month.desc()).\\\n",
    "limit(12).\\\n",
    "all()\n",
    "\n",
    "# Confirm query results\n",
    "lastTwelveMonPrcp\n",
    "\n",
    "# Create empty lists to store data from the 12 month 'measurement' query\n",
    "prcp_month = []\n",
    "prcp_total = []\n",
    "\n",
    "# Store query count for iteration\n",
    "lastTwelveMonths = len(lastTwelveMonPrcp)\n",
    "    \n",
    "# Add data to the empty lists\n",
    "for totalPrcp in range(lastTwelveMonths):\n",
    "    # Use 'lastTwelveMonths-1' to reorder records from lower-to-higher date display\n",
    "    prcp_month.append(lastTwelveMonPrcp[(lastTwelveMonths-1)-totalPrcp][0])\n",
    "    prcp_total.append(lastTwelveMonPrcp[(lastTwelveMonths-1)-totalPrcp][1])\n",
    "\n",
    "# Create a dataframe that matches the lastTwelveMonPrcp object\n",
    "lastTwelveMonPrcp_df = pd.DataFrame({\n",
    "    \"date\":prcp_month,\n",
    "    \"precipitation\":prcp_total\n",
    "})\n",
    "\n",
    "# Save an image of the plot\n",
    "\n",
    "# Confirm expected values in dataframe\n",
    "lastTwelveMonPrcp_df"
   ]
  },
  {
   "cell_type": "code",
   "execution_count": 82,
   "metadata": {},
   "outputs": [],
   "source": [
    "# Create a bar graph\n",
    "#ax = lastTwelveMonPrcp_df.plot.bar(x='Month',y='Precipitation Total')\n",
    "#ax.set_title('Monthly Hawaiian Precipitation (Last 12 Months)')\n",
    "\n",
    "# Save an image of the plot\n",
    "#pl.savefig(\"./Images/LastTwelveMonPrcp.png\")"
   ]
  },
  {
   "cell_type": "code",
   "execution_count": 103,
   "metadata": {},
   "outputs": [
    {
     "data": {
      "image/png": "[encoded data removed]",
      "text/plain": [
       "<Figure size 360x360 with 1 Axes>"
      ]
     },
     "metadata": {},
     "output_type": "display_data"
    }
   ],
   "source": [
    "precipitation = lastTwelveMonPrcp_df['precipitation']\n",
    "\n",
    "plt.figure(figsize=(5,5))\n",
    "\n",
    "# Set x axis and tick locations\n",
    "x_axis = np.arange(len(lastTwelveMonPrcp_df['date']))\n",
    "tick_locations = [value+0.4 for value in x_axis]\n",
    "plt.xticks(tick_locations, lastTwelveMonPrcp_df['date'], rotation=\"vertical\")\n",
    "\n",
    "# Sets the x limits of the current chart\n",
    "plt.xlim(-0.75, len(x_axis)-0.25)\n",
    "\n",
    "# Sets the y limits of the current chart\n",
    "plt.ylim(0, max(precipitation)+.5)\n",
    "\n",
    "# Axes manipulation\n",
    "#plt.axis('off') # Hide all axes ticks and labels\n",
    "#frame1 = plt.gca() # Get Current Axes\n",
    "#frame1.axes.get_xaxis().set_visible(False) # Hide x-axis ticks and labels\n",
    "#frame1.axes.get_yaxis().set_visible(True) # Hide y-axis ticks and labels\n",
    "#frame1.axes.get_xaxis().set_ticks([])  # Hide x-axis ticks\n",
    "#frame1.axes.get_yaxis().set_ticks([])  # Hide y-axis ticks\n",
    "\n",
    "# Print titles and labels\n",
    "plt.suptitle('Monthly Hawaiian Precipitation (Last 12 Months)', fontsize=15)\n",
    "plt.xlabel('months', fontsize=15)\n",
    "plt.ylabel('precipitation (inches)', fontsize=15)\n",
    "\n",
    "plt.bar(x_axis, precipitation, alpha=1, align=\"edge\")\n",
    "\n",
    "# Save an image of the plot\n",
    "plt.savefig(\"./Images/LastTwelveMonPrcp.png\", bbox_inches = 'tight')"
   ]
  },
  {
   "cell_type": "code",
   "execution_count": 12,
   "metadata": {},
   "outputs": [
    {
     "data": {
      "text/html": [
       "<div>\n",
       "<style scoped>\n",
       "    .dataframe tbody tr th:only-of-type {\n",
       "        vertical-align: middle;\n",
       "    }\n",
       "\n",
       "    .dataframe tbody tr th {\n",
       "        vertical-align: top;\n",
       "    }\n",
       "\n",
       "    .dataframe thead th {\n",
       "        text-align: right;\n",
       "    }\n",
       "</style>\n",
       "<table border=\"1\" class=\"dataframe\">\n",
       "  <thead>\n",
       "    <tr style=\"text-align: right;\">\n",
       "      <th></th>\n",
       "      <th>date</th>\n",
       "      <th>precipitation</th>\n",
       "    </tr>\n",
       "  </thead>\n",
       "  <tbody>\n",
       "    <tr>\n",
       "      <td>0</td>\n",
       "      <td>2016-08-24</td>\n",
       "      <td>9.33</td>\n",
       "    </tr>\n",
       "    <tr>\n",
       "      <td>1</td>\n",
       "      <td>2016-08-25</td>\n",
       "      <td>0.54</td>\n",
       "    </tr>\n",
       "    <tr>\n",
       "      <td>2</td>\n",
       "      <td>2016-08-26</td>\n",
       "      <td>0.10</td>\n",
       "    </tr>\n",
       "    <tr>\n",
       "      <td>3</td>\n",
       "      <td>2016-08-27</td>\n",
       "      <td>0.32</td>\n",
       "    </tr>\n",
       "    <tr>\n",
       "      <td>4</td>\n",
       "      <td>2016-08-28</td>\n",
       "      <td>3.10</td>\n",
       "    </tr>\n",
       "    <tr>\n",
       "      <td>...</td>\n",
       "      <td>...</td>\n",
       "      <td>...</td>\n",
       "    </tr>\n",
       "    <tr>\n",
       "      <td>360</td>\n",
       "      <td>2017-08-19</td>\n",
       "      <td>0.09</td>\n",
       "    </tr>\n",
       "    <tr>\n",
       "      <td>361</td>\n",
       "      <td>2017-08-20</td>\n",
       "      <td>0.01</td>\n",
       "    </tr>\n",
       "    <tr>\n",
       "      <td>362</td>\n",
       "      <td>2017-08-21</td>\n",
       "      <td>0.58</td>\n",
       "    </tr>\n",
       "    <tr>\n",
       "      <td>363</td>\n",
       "      <td>2017-08-22</td>\n",
       "      <td>0.50</td>\n",
       "    </tr>\n",
       "    <tr>\n",
       "      <td>364</td>\n",
       "      <td>2017-08-23</td>\n",
       "      <td>0.53</td>\n",
       "    </tr>\n",
       "  </tbody>\n",
       "</table>\n",
       "<p>365 rows × 2 columns</p>\n",
       "</div>"
      ],
      "text/plain": [
       "           date  precipitation\n",
       "0    2016-08-24           9.33\n",
       "1    2016-08-25           0.54\n",
       "2    2016-08-26           0.10\n",
       "3    2016-08-27           0.32\n",
       "4    2016-08-28           3.10\n",
       "..          ...            ...\n",
       "360  2017-08-19           0.09\n",
       "361  2017-08-20           0.01\n",
       "362  2017-08-21           0.58\n",
       "363  2017-08-22           0.50\n",
       "364  2017-08-23           0.53\n",
       "\n",
       "[365 rows x 2 columns]"
      ]
     },
     "execution_count": 12,
     "metadata": {},
     "output_type": "execute_result"
    }
   ],
   "source": [
    "# Design a query to retrieve the last 12 months of precipitation data and plot the results.\n",
    "\n",
    "# Format date for aggregation.  Retain only year and month\n",
    "prcp_day = Measurement.date\n",
    "\n",
    "# Query the 'measurement' table, sum 'prcp' by year/month, keep last 12 monthly totals\n",
    "lastThreeSixtyFiveDaysPrcp = session.query(\n",
    "    prcp_day,\n",
    "    func.sum(Measurement.prcp)\n",
    ").\\\n",
    "group_by(prcp_day).\\\n",
    "order_by(prcp_day.desc()).\\\n",
    "limit(365).\\\n",
    "all()\n",
    "\n",
    "# Confirm query results\n",
    "lastThreeSixtyFiveDaysPrcp\n",
    "#len(lastThreeSixtyFiveDaysPrcp)\n",
    "\n",
    "# Create empty lists to store data from the 365 days 'measurement' query\n",
    "prcp_total_365 = []\n",
    "prcp_day_365 = []\n",
    "\n",
    "# Store query count for iteration\n",
    "lastThreeSixtyFiveDays = len(lastThreeSixtyFiveDaysPrcp)\n",
    "    \n",
    "# Add data to the empty lists\n",
    "for totalPrcp in range(lastThreeSixtyFiveDays):\n",
    "    # Use 'lastThreeSixtyFiveDays-1' to reorder records from lower-to-higher date display\n",
    "    prcp_day_365.append(lastThreeSixtyFiveDaysPrcp[(lastThreeSixtyFiveDays-1)-totalPrcp][0])\n",
    "    prcp_total_365.append(lastThreeSixtyFiveDaysPrcp[(lastThreeSixtyFiveDays-1)-totalPrcp][1])\n",
    "\n",
    "# Create a dataframe that matches the lastTwelveMonPrcp object\n",
    "lastThreeSixtyFiveDaysPrcp_df = pd.DataFrame({\n",
    "    \"date\":prcp_day_365,\n",
    "    \"precipitation\":prcp_total_365\n",
    "})\n",
    "\n",
    "# Confirm expected values in dataframe\n",
    "lastThreeSixtyFiveDaysPrcp_df"
   ]
  },
  {
   "cell_type": "code",
   "execution_count": 104,
   "metadata": {},
   "outputs": [
    {
     "data": {
      "image/png": "[encoded data removed]",
      "text/plain": [
       "<Figure size 1440x504 with 1 Axes>"
      ]
     },
     "metadata": {},
     "output_type": "display_data"
    }
   ],
   "source": [
    "precipitation = lastThreeSixtyFiveDaysPrcp_df['precipitation']\n",
    "\n",
    "plt.figure(figsize=(20,7))\n",
    "\n",
    "# Set x axis and tick locations\n",
    "x_axis = np.arange(len(lastThreeSixtyFiveDaysPrcp_df['date']))\n",
    "tick_locations = [value+0.4 for value in x_axis]\n",
    "plt.xticks(tick_locations, lastThreeSixtyFiveDaysPrcp_df['date'], rotation=\"vertical\")\n",
    "\n",
    "# Sets the x limits of the current chart\n",
    "plt.xlim(-0.75, len(x_axis)-0.25)\n",
    "\n",
    "# Sets the y limits of the current chart\n",
    "plt.ylim(0, max(precipitation)+.5)\n",
    "\n",
    "# Axes manipulation\n",
    "#plt.axis('off') # Hide all axes ticks and labels\n",
    "frame1 = plt.gca() # Get Current Axes\n",
    "#frame1.axes.get_xaxis().set_visible(False) # Hide x-axis ticks and labels\n",
    "#frame1.axes.get_yaxis().set_visible(True) # Hide y-axis ticks and labels\n",
    "frame1.axes.get_xaxis().set_ticks([])  # Hide x-axis ticks\n",
    "#frame1.axes.get_yaxis().set_ticks([])  # Hide y-axis ticks\n",
    "\n",
    "# Print titles and labels\n",
    "plt.suptitle('Daily Hawaiian Precipitation (Last 12 Months)', fontsize=15)\n",
    "plt.xlabel('days', fontsize=15)\n",
    "plt.ylabel('precipitation (inches)', fontsize=15)\n",
    "\n",
    "plt.bar(x_axis, precipitation, alpha=1, align=\"edge\")\n",
    "\n",
    "# Save an image of the plot\n",
    "plt.savefig(\"./Images/LastThreeSixtyFiveDaysPrcp.png\", bbox_inches = 'tight')"
   ]
  },
  {
   "cell_type": "code",
   "execution_count": null,
   "metadata": {},
   "outputs": [],
   "source": []
  },
  {
   "cell_type": "code",
   "execution_count": null,
   "metadata": {},
   "outputs": [],
   "source": [
    "# Calculate the date 1 year ago from the last data point in the database\n",
    "\n",
    "# Perform a query to retrieve the data and precipitation scores\n",
    "\n",
    "# Save the query results as a Pandas DataFrame and set the index to the date column\n",
    "\n",
    "# Sort the dataframe by date\n",
    "\n",
    "# Use Pandas Plotting with Matplotlib to plot the data\n",
    "\n",
    "# Save an image of the plot\n"
   ]
  },
  {
   "cell_type": "code",
   "execution_count": null,
   "metadata": {},
   "outputs": [],
   "source": [
    "# Use Pandas to calcualte the summary statistics for the precipitation data\n"
   ]
  },
  {
   "cell_type": "code",
   "execution_count": null,
   "metadata": {},
   "outputs": [],
   "source": [
    "# Design a query to show how many stations are available in this dataset?\n"
   ]
  },
  {
   "cell_type": "code",
   "execution_count": null,
   "metadata": {},
   "outputs": [],
   "source": [
    "# What are the most active stations? (i.e. what stations have the most rows)?\n",
    "# List the stations and the counts in descending order.\n"
   ]
  },
  {
   "cell_type": "code",
   "execution_count": null,
   "metadata": {},
   "outputs": [],
   "source": [
    "# Using the station id from the previous query, calculate the lowest temperature recorded, \n",
    "# highest temperature recorded, and average temperature of the most active station?\n"
   ]
  },
  {
   "cell_type": "code",
   "execution_count": null,
   "metadata": {},
   "outputs": [],
   "source": [
    "# Choose the station with the highest number of temperature observations.\n",
    "# Query the last 12 months of temperature observation data for this station and plot the results as a histogram\n",
    "\n",
    "# Save an image of the histogram"
   ]
  },
  {
   "cell_type": "code",
   "execution_count": null,
   "metadata": {},
   "outputs": [],
   "source": [
    "# This function called `calc_temps` will accept start date and end date in the format '%Y-%m-%d' \n",
    "# and return the minimum, average, and maximum temperatures for that range of dates\n",
    "def calc_temps(start_date, end_date):\n",
    "    \"\"\"TMIN, TAVG, and TMAX for a list of dates.\n",
    "    \n",
    "    Args:\n",
    "        start_date (string): A date string in the format %Y-%m-%d\n",
    "        end_date (string): A date string in the format %Y-%m-%d\n",
    "        \n",
    "    Returns:\n",
    "        TMIN, TAVE, and TMAX\n",
    "    \"\"\"\n",
    "    \n",
    "    return session.query(func.min(Measurement.tobs), func.avg(Measurement.tobs), func.max(Measurement.tobs)).\\\n",
    "        filter(Measurement.date >= start_date).filter(Measurement.date <= end_date).all()\n",
    "\n",
    "# function usage example\n",
    "print(calc_temps('2012-02-28', '2012-03-05'))"
   ]
  },
  {
   "cell_type": "code",
   "execution_count": null,
   "metadata": {},
   "outputs": [],
   "source": [
    "# Use your previous function `calc_temps` to calculate the tmin, tavg, and tmax \n",
    "# for your trip using the previous year's data for those same dates.\n"
   ]
  },
  {
   "cell_type": "code",
   "execution_count": null,
   "metadata": {},
   "outputs": [],
   "source": [
    "# Plot the results from your previous query as a bar chart. \n",
    "# Use \"Trip Avg Temp\" as your Title\n",
    "# Use the average temperature for the y value\n",
    "# Use the peak-to-peak (tmax-tmin) value as the y error bar (yerr)\n",
    "\n",
    "# Save an image of the bar chart"
   ]
  },
  {
   "cell_type": "code",
   "execution_count": null,
   "metadata": {},
   "outputs": [],
   "source": [
    "# Calculate the total amount of rainfall per weather station for your trip dates using the previous year's matching dates.\n",
    "# Sort this in descending order by precipitation amount and list the station, name, latitude, longitude, and elevation\n",
    "\n"
   ]
  },
  {
   "cell_type": "markdown",
   "metadata": {},
   "source": [
    "## Optional Challenge Assignment"
   ]
  },
  {
   "cell_type": "code",
   "execution_count": null,
   "metadata": {},
   "outputs": [],
   "source": [
    "# Create a query that will calculate the daily normals \n",
    "# (i.e. the averages for tmin, tmax, and tavg for all historic data matching a specific month and day)\n",
    "\n",
    "def daily_normals(date):\n",
    "    \"\"\"Daily Normals.\n",
    "    \n",
    "    Args:\n",
    "        date (str): A date string in the format '%m-%d'\n",
    "        \n",
    "    Returns:\n",
    "        A list of tuples containing the daily normals, tmin, tavg, and tmax\n",
    "    \n",
    "    \"\"\"\n",
    "    \n",
    "    sel = [func.min(Measurement.tobs), func.avg(Measurement.tobs), func.max(Measurement.tobs)]\n",
    "    return session.query(*sel).filter(func.strftime(\"%m-%d\", Measurement.date) == date).all()\n",
    "    \n",
    "daily_normals(\"01-01\")"
   ]
  },
  {
   "cell_type": "code",
   "execution_count": null,
   "metadata": {},
   "outputs": [],
   "source": [
    "# calculate the daily normals for your trip\n",
    "# push each tuple of calculations into a list called `normals`\n",
    "\n",
    "# Set the start and end date of the trip\n",
    "\n",
    "# Use the start and end date to create a range of dates\n",
    "\n",
    "# Stip off the year and save a list of %m-%d strings\n",
    "\n",
    "# Loop through the list of %m-%d strings and calculate the normals for each date\n"
   ]
  },
  {
   "cell_type": "code",
   "execution_count": null,
   "metadata": {},
   "outputs": [],
   "source": [
    "# Load the previous query results into a Pandas DataFrame and add the `trip_dates` range as the `date` index\n"
   ]
  },
  {
   "cell_type": "code",
   "execution_count": null,
   "metadata": {},
   "outputs": [],
   "source": [
    "# Plot the daily normals as an area plot with `stacked=False`\n",
    "\n",
    "# Save an image of the plot"
   ]
  }
 ],
 "metadata": {
  "kernel_info": {
   "name": "python3"
  },
  "kernelspec": {
   "display_name": "Python 3",
   "language": "python",
   "name": "python3"
  },
  "language_info": {
   "codemirror_mode": {
    "name": "ipython",
    "version": 3
   },
   "file_extension": ".py",
   "mimetype": "text/x-python",
   "name": "python",
   "nbconvert_exporter": "python",
   "pygments_lexer": "ipython3",
   "version": "3.7.4"
  },
  "nteract": {
   "version": "0.12.3"
  },
  "varInspector": {
   "cols": {
    "lenName": 16,
    "lenType": 16,
    "lenVar": 40
   },
   "kernels_config": {
    "python": {
     "delete_cmd_postfix": "",
     "delete_cmd_prefix": "del ",
     "library": "var_list.py",
     "varRefreshCmd": "print(var_dic_list())"
    },
    "r": {
     "delete_cmd_postfix": ") ",
     "delete_cmd_prefix": "rm(",
     "library": "var_list.r",
     "varRefreshCmd": "cat(var_dic_list()) "
    }
   },
   "types_to_exclude": [
    "module",
    "function",
    "builtin_function_or_method",
    "instance",
    "_Feature"
   ],
   "window_display": false
  }
 },
 "nbformat": 4,
 "nbformat_minor": 2
}
